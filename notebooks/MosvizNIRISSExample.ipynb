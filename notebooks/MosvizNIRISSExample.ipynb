{
 "cells": [
  {
   "cell_type": "markdown",
   "id": "2b2fcea7",
   "metadata": {},
   "source": [
    "# Mosviz NIRISS example notebook"
   ]
  },
  {
   "cell_type": "markdown",
   "id": "b180dd8a",
   "metadata": {},
   "source": [
    "Note: We silence most warnings for now. For debugging, you can comment out the next cell and then restart the kernel to re-enable warnings."
   ]
  },
  {
   "cell_type": "code",
   "execution_count": 1,
   "id": "869727c8",
   "metadata": {},
   "outputs": [],
   "source": [
    "import warnings\n",
    "warnings.simplefilter('ignore')"
   ]
  },
  {
   "cell_type": "markdown",
   "id": "e3d6f12f",
   "metadata": {},
   "source": [
    "Next, start Mosviz."
   ]
  },
  {
   "cell_type": "code",
   "execution_count": 2,
   "id": "f2233e63",
   "metadata": {
    "scrolled": false
   },
   "outputs": [
    {
     "data": {
      "application/vnd.jupyter.widget-view+json": {
       "model_id": "afc0762f0c224cb0bbdc660a0506d6c2",
       "version_major": 2,
       "version_minor": 0
      },
      "text/plain": [
       "Application(components={'g-viewer-tab': '<template>\\n  <component :is=\"stack.container\">\\n    <g-viewer-tab\\n …"
      ]
     },
     "metadata": {},
     "output_type": "display_data"
    }
   ],
   "source": [
    "from jdaviz.configs.mosviz.helper import MosViz as Mosviz\n",
    "\n",
    "mosviz = Mosviz()\n",
    "mosviz.app"
   ]
  },
  {
   "cell_type": "code",
   "execution_count": 3,
   "id": "75d0e918",
   "metadata": {},
   "outputs": [],
   "source": [
    "# Run this cell if your desired data path is a temporary directory.\n",
    "\n",
    "import tempfile\n",
    "data_dir = tempfile.gettempdir()"
   ]
  },
  {
   "cell_type": "raw",
   "id": "bbf74c94",
   "metadata": {},
   "source": [
    "# *** OR ***\n",
    "# Enable and run this cell if you have a different data path.\n",
    "# Replace the value with your real path.\n",
    "\n",
    "data_dir = '/path/to/my_mosvis_data_dir' "
   ]
  },
  {
   "cell_type": "code",
   "execution_count": 4,
   "id": "2ac93c58",
   "metadata": {},
   "outputs": [],
   "source": [
    "# Run this cell if you wish to download and unzip our example data.\n",
    "# This requires the \"zipfile\" package.\n",
    "\n",
    "from zipfile import ZipFile\n",
    "from astropy.utils.data import download_file\n",
    "import pathlib\n",
    "\n",
    "example_data = 'https://stsci.box.com/shared/static/9lkf5zha6zkf8ujnairy6krobbh038wt.zip'\n",
    "fn = download_file(example_data, cache=True)\n",
    "with ZipFile(fn, 'r') as sample_data_zip:\n",
    "    sample_data_zip.extractall(data_dir)\n",
    "\n",
    "level3_path = (pathlib.Path(data_dir) / 'NIRISS_for_parser_p0171')\n",
    "    \n",
    "data_dir = level3_path"
   ]
  },
  {
   "cell_type": "markdown",
   "id": "8bcd4639",
   "metadata": {},
   "source": [
    "Once loaded below, click on one of the rows in the table to have your data displayed."
   ]
  },
  {
   "cell_type": "code",
   "execution_count": 5,
   "id": "1c75b8a1",
   "metadata": {},
   "outputs": [
    {
     "name": "stderr",
     "output_type": "stream",
     "text": [
      "INFO:astropy:first HDU with data is extension 1.\n"
     ]
    },
    {
     "name": "stdout",
     "output_type": "stream",
     "text": [
      "Loading: Images\n",
      "INFO: first HDU with data is extension 1. [astropy.nddata.ccddata]\n",
      "Loading: 2D Spectra C sources\n",
      "Loading: 2D Spectra R sources\n",
      "Loading: 1D Spectra C sources\n",
      "Loading: 1D Spectra R sources\n",
      "auto_link false\n",
      "auto_link false\n",
      "auto_link false\n",
      "auto_link false\n",
      "auto_link false\n",
      "auto_link false\n",
      "auto_link false\n",
      "auto_link false\n",
      "auto_link false\n",
      "auto_link false\n",
      "auto_link false\n",
      "auto_link false\n",
      "auto_link false\n",
      "auto_link false\n",
      "auto_link false\n",
      "auto_link false\n",
      "auto_link false\n",
      "auto_link false\n",
      "auto_link false\n",
      "auto_link false\n",
      "auto_link false\n",
      "auto_link false\n",
      "auto_link false\n",
      "auto_link false\n",
      "auto_link false\n",
      "auto_link false\n",
      "auto_link false\n",
      "auto_link false\n",
      "auto_link false\n",
      "auto_link false\n",
      "auto_link false\n",
      "auto_link false\n",
      "auto_link false\n",
      "auto_link false\n",
      "auto_link false\n",
      "auto_link false\n",
      "auto_link false\n",
      "auto_link false\n",
      "auto_link false\n",
      "auto_link false\n",
      "auto_link false\n",
      "auto_link false\n",
      "auto_link false\n",
      "auto_link false\n",
      "auto_link false\n",
      "auto_link false\n",
      "auto_link false\n",
      "auto_link false\n",
      "auto_link false\n",
      "auto_link false\n",
      "auto_link false\n",
      "auto_link false\n",
      "auto_link false\n",
      "auto_link false\n",
      "auto_link false\n",
      "auto_link false\n",
      "auto_link false\n",
      "auto_link false\n",
      "auto_link false\n",
      "auto_link false\n",
      "auto_link false\n",
      "auto_link false\n",
      "auto_link false\n",
      "auto_link false\n",
      "auto_link false\n",
      "auto_link false\n",
      "auto_link false\n",
      "auto_link false\n",
      "auto_link false\n",
      "auto_link false\n",
      "auto_link false\n",
      "auto_link false\n",
      "auto_link false\n",
      "auto_link false\n",
      "auto_link false\n",
      "auto_link false\n",
      "auto_link false\n",
      "auto_link false\n",
      "auto_link false\n",
      "Populating table\n",
      "auto_link false\n",
      "Done\n"
     ]
    }
   ],
   "source": [
    "mosviz.load_niriss_data(data_dir)"
   ]
  },
  {
   "cell_type": "code",
   "execution_count": null,
   "id": "03884229",
   "metadata": {},
   "outputs": [],
   "source": []
  }
 ],
 "metadata": {
  "kernelspec": {
   "display_name": "Python 3 (ipykernel)",
   "language": "python",
   "name": "python3"
  },
  "language_info": {
   "codemirror_mode": {
    "name": "ipython",
    "version": 3
   },
   "file_extension": ".py",
   "mimetype": "text/x-python",
   "name": "python",
   "nbconvert_exporter": "python",
   "pygments_lexer": "ipython3",
   "version": "3.8.11"
  }
 },
 "nbformat": 4,
 "nbformat_minor": 5
}
