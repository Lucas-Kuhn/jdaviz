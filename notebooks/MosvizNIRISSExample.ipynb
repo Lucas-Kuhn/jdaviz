{
 "cells": [
  {
   "cell_type": "markdown",
   "id": "2b2fcea7",
   "metadata": {},
   "source": [
    "# MOSViz NIRISS example notebook"
   ]
  },
  {
   "cell_type": "markdown",
   "id": "b180dd8a",
   "metadata": {},
   "source": [
    "Note: We silence most warnings for now. For debugging, you can comment out the next cell and then restart the kernel to re-enable warnings."
   ]
  },
  {
   "cell_type": "code",
   "execution_count": null,
   "id": "869727c8",
   "metadata": {},
   "outputs": [],
   "source": [
    "import warnings\n",
    "warnings.simplefilter('ignore')"
   ]
  },
  {
   "cell_type": "markdown",
   "id": "e3d6f12f",
   "metadata": {},
   "source": [
    "This starts MOSViz."
   ]
  },
  {
   "cell_type": "code",
   "execution_count": null,
   "id": "f2233e63",
   "metadata": {
    "scrolled": false
   },
   "outputs": [],
   "source": [
    "from jdaviz.configs.mosviz.helper import MosViz\n",
    "import snakeviz\n",
    "\n",
    "mosviz = MosViz()\n",
    "mosviz.app"
   ]
  },
  {
   "cell_type": "code",
   "execution_count": null,
   "id": "75d0e918",
   "metadata": {},
   "outputs": [],
   "source": [
    "# Run this cell if your desired data path is a temporary directory.\n",
    "\n",
    "import tempfile\n",
    "data_dir = tempfile.gettempdir()"
   ]
  },
  {
   "cell_type": "raw",
   "id": "bbf74c94",
   "metadata": {},
   "source": [
    "# *** OR ***\n",
    "# Enable and run this cell if you have a different data path.\n",
    "# Replace the value with your real path.\n",
    "\n",
    "data_dir = '/path/to/my_mosvis_data_dir' "
   ]
  },
  {
   "cell_type": "code",
   "execution_count": null,
   "id": "2ac93c58",
   "metadata": {},
   "outputs": [],
   "source": [
    "# Run this cell if you wish to download and unzip our example data.\n",
    "# This requires the \"zipfile\" package.\n",
    "\n",
    "from zipfile import ZipFile\n",
    "from astropy.utils.data import download_file\n",
    "import pathlib\n",
    "\n",
    "example_data = 'https://stsci.box.com/shared/static/9lkf5zha6zkf8ujnairy6krobbh038wt.zip'\n",
    "fn = download_file(example_data, cache=True)\n",
    "with ZipFile(fn, 'r') as sample_data_zip:\n",
    "    sample_data_zip.extractall(data_dir)\n",
    "\n",
    "level3_path = (pathlib.Path(data_dir) / 'NIRISS_for_parser_p0171')\n",
    "    \n",
    "data_dir = level3_path"
   ]
  },
  {
   "cell_type": "markdown",
   "id": "8bcd4639",
   "metadata": {},
   "source": [
    "Once loaded below, click on one of the rows in the table to have your data displayed."
   ]
  },
  {
   "cell_type": "code",
   "execution_count": null,
   "id": "1c75b8a1",
   "metadata": {},
   "outputs": [],
   "source": [
    "mosviz.load_data(directory=data_dir, instrument=\"niriss\")"
   ]
  },
  {
   "cell_type": "code",
   "execution_count": null,
   "id": "21a10cc7",
   "metadata": {},
   "outputs": [],
   "source": [
    "iv.layers[0].layer"
   ]
  },
  {
   "cell_type": "code",
   "execution_count": null,
   "id": "098f8817",
   "metadata": {},
   "outputs": [],
   "source": [
    "type(sorted(mosviz.app.data_collection['MOS Table'].components)[0])"
   ]
  },
  {
   "cell_type": "code",
   "execution_count": null,
   "id": "5b040831",
   "metadata": {},
   "outputs": [],
   "source": [
    "mosviz.app.data_collection['MOS Table'][\"2D Spectra\"].data"
   ]
  },
  {
   "cell_type": "code",
   "execution_count": null,
   "id": "6668ee2e",
   "metadata": {},
   "outputs": [],
   "source": [
    "mos_data = mosviz.app.data_collection['MOS Table']"
   ]
  },
  {
   "cell_type": "code",
   "execution_count": null,
   "id": "4485382b",
   "metadata": {},
   "outputs": [],
   "source": [
    "mos_data.find_component_id(\"2D Spectra\")"
   ]
  },
  {
   "cell_type": "code",
   "execution_count": null,
   "id": "397ba61a",
   "metadata": {},
   "outputs": [],
   "source": [
    "s2dv.layers[0].layer.meta"
   ]
  },
  {
   "cell_type": "code",
   "execution_count": null,
   "id": "ef1f0798",
   "metadata": {},
   "outputs": [],
   "source": [
    "wcs = s2dv.layers[0].layer.coords\n",
    "wcs"
   ]
  },
  {
   "cell_type": "code",
   "execution_count": null,
   "id": "e47102e5",
   "metadata": {},
   "outputs": [],
   "source": [
    "upper_y = wcs.celestial.pixel_to_world(0,0)\n",
    "lower_y = wcs.celestial.pixel_to_world(10,0)\n",
    "print(upper_y)\n",
    "print(lower_y)"
   ]
  },
  {
   "cell_type": "code",
   "execution_count": null,
   "id": "a6d13415",
   "metadata": {},
   "outputs": [],
   "source": [
    "s2dv.layers[0].layer.data.shape"
   ]
  },
  {
   "cell_type": "code",
   "execution_count": null,
   "id": "d49db9eb",
   "metadata": {},
   "outputs": [],
   "source": [
    "iv.data()[0].coords.world_to_pixel(lower_y)"
   ]
  },
  {
   "cell_type": "code",
   "execution_count": null,
   "id": "d772cf03",
   "metadata": {},
   "outputs": [],
   "source": []
  }
 ],
 "metadata": {
  "kernelspec": {
   "display_name": "Python 3",
   "language": "python",
   "name": "python3"
  },
  "language_info": {
   "codemirror_mode": {
    "name": "ipython",
    "version": 3
   },
   "file_extension": ".py",
   "mimetype": "text/x-python",
   "name": "python",
   "nbconvert_exporter": "python",
   "pygments_lexer": "ipython3",
   "version": "3.8.11"
  }
 },
 "nbformat": 4,
 "nbformat_minor": 5
}
