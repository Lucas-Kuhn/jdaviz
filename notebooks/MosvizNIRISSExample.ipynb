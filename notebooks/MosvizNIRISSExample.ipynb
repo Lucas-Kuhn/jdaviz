{
 "cells": [
  {
   "cell_type": "code",
   "execution_count": 1,
   "id": "188654bb",
   "metadata": {},
   "outputs": [],
   "source": [
    "import tempfile\n",
    "import pathlib\n",
    "from zipfile import ZipFile\n",
    "\n",
    "from astropy.utils.data import download_file\n",
    "from jdaviz.configs.mosviz.helper import MosViz\n",
    "from astropy.io import fits"
   ]
  },
  {
   "cell_type": "code",
   "execution_count": 2,
   "id": "c562e35f",
   "metadata": {},
   "outputs": [
    {
     "data": {
      "application/vnd.jupyter.widget-view+json": {
       "model_id": "3f84f06fa4624dba96903fc230589337",
       "version_major": 2,
       "version_minor": 0
      },
      "text/plain": [
       "Application(components={'g-viewer-tab': '<template>\\n  <component :is=\"stack.container\">\\n    <g-viewer-tab\\n …"
      ]
     },
     "metadata": {},
     "output_type": "display_data"
    }
   ],
   "source": [
    "mosviz = MosViz()\n",
    "mosviz.app"
   ]
  },
  {
   "cell_type": "markdown",
   "id": "d5ee919c",
   "metadata": {},
   "source": [
    "WARNING: Downloading data and loading into Mosviz could take upwards of 10 minutes or longer, depending on internet connection.\n",
    "\n",
    "Also, to prevent unnecessary tracebacks, go into the Slit Overlay plugin and set it to be invisible."
   ]
  },
  {
   "cell_type": "code",
   "execution_count": 3,
   "id": "154db854",
   "metadata": {},
   "outputs": [
    {
     "name": "stderr",
     "output_type": "stream",
     "text": [
      "INFO:astropy:first HDU with data is extension 1.\n"
     ]
    },
    {
     "name": "stdout",
     "output_type": "stream",
     "text": [
      "Loading: Images\n",
      "INFO: first HDU with data is extension 1. [astropy.nddata.ccddata]\n",
      "Loading: 2D Spectra C sources\n",
      "Loading: 2D Spectra R sources\n",
      "Loading: 1D Spectra C sources\n",
      "Loading: 1D Spectra R sources\n",
      "Populating table\n",
      "Done\n"
     ]
    }
   ],
   "source": [
    "data_dir = tempfile.gettempdir()\n",
    "\n",
    "example_data = 'https://stsci.box.com/shared/static/9lkf5zha6zkf8ujnairy6krobbh038wt.zip'\n",
    "fn = download_file(example_data, cache=True)\n",
    "with ZipFile(fn, 'r') as sample_data_zip:\n",
    "    sample_data_zip.extractall(data_dir)\n",
    "\n",
    "level3_path = (pathlib.Path(data_dir) / 'NIRISS_for_parser_p0171')\n",
    "mosviz.load_niriss_data(level3_path)\n"
   ]
  },
  {
   "cell_type": "code",
   "execution_count": null,
   "id": "847fa89e",
   "metadata": {},
   "outputs": [],
   "source": []
  }
 ],
 "metadata": {
  "kernelspec": {
   "display_name": "Python 3 (ipykernel)",
   "language": "python",
   "name": "python3"
  },
  "language_info": {
   "codemirror_mode": {
    "name": "ipython",
    "version": 3
   },
   "file_extension": ".py",
   "mimetype": "text/x-python",
   "name": "python",
   "nbconvert_exporter": "python",
   "pygments_lexer": "ipython3",
   "version": "3.8.10"
  }
 },
 "nbformat": 4,
 "nbformat_minor": 5
}
