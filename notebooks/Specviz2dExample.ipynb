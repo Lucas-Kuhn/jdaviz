{
 "cells": [
  {
   "cell_type": "markdown",
   "id": "ec894f29",
   "metadata": {},
   "source": [
    "## Create Specviz2d via Helper"
   ]
  },
  {
   "cell_type": "code",
   "execution_count": null,
   "id": "f99e3d2d",
   "metadata": {},
   "outputs": [],
   "source": [
    "from jdaviz import Specviz2d\n",
    "specviz2d = Specviz2d()"
   ]
  },
  {
   "cell_type": "markdown",
   "id": "0ed07713",
   "metadata": {},
   "source": [
    "## Display Specviz2d"
   ]
  },
  {
   "cell_type": "code",
   "execution_count": null,
   "id": "45802673",
   "metadata": {},
   "outputs": [],
   "source": [
    "specviz2d.app"
   ]
  },
  {
   "cell_type": "markdown",
   "id": "c5d391ee",
   "metadata": {},
   "source": [
    "## Load a File"
   ]
  },
  {
   "cell_type": "markdown",
   "id": "a60eaa88",
   "metadata": {},
   "source": [
    "Download data from: https://stsci.app.box.com/s/exnkul627fcuhy5akf2gswytud5tazmw\n",
    "\n",
    "Set the path to the data in the following cell"
   ]
  },
  {
   "cell_type": "code",
   "execution_count": null,
   "id": "b962e74a",
   "metadata": {},
   "outputs": [],
   "source": [
    "filename = \"/Users/javerbukh/Documents/jdaviz_dev/data/data_for_mosviz/det_image_seq5_MIRIMAGE_P750Lexp1_s2d.fits\""
   ]
  },
  {
   "cell_type": "code",
   "execution_count": null,
   "id": "ec94837b",
   "metadata": {},
   "outputs": [],
   "source": [
    "specviz2d.load_data(filename)"
   ]
  },
  {
   "cell_type": "code",
   "execution_count": null,
   "id": "a5462b77",
   "metadata": {},
   "outputs": [],
   "source": []
  }
 ],
 "metadata": {
  "kernelspec": {
   "display_name": "Python 3 (ipykernel)",
   "language": "python",
   "name": "python3"
  },
  "language_info": {
   "codemirror_mode": {
    "name": "ipython",
    "version": 3
   },
   "file_extension": ".py",
   "mimetype": "text/x-python",
   "name": "python",
   "nbconvert_exporter": "python",
   "pygments_lexer": "ipython3",
   "version": "3.8.11"
  }
 },
 "nbformat": 4,
 "nbformat_minor": 5
}
