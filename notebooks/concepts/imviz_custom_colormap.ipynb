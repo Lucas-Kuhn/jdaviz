{
 "cells": [
  {
   "cell_type": "markdown",
   "id": "2f38f4ba",
   "metadata": {},
   "source": [
    "# Add your own colormap to image viewer\n",
    "\n",
    "This should work with any image viewer that supports Glue colormaps. Imviz is just an example."
   ]
  },
  {
   "cell_type": "code",
   "execution_count": null,
   "id": "120961eb",
   "metadata": {},
   "outputs": [],
   "source": [
    "from glue.config import colormaps\n",
    "import matplotlib.cm as cm\n",
    "import numpy as np\n",
    "\n",
    "from jdaviz import Imviz"
   ]
  },
  {
   "cell_type": "code",
   "execution_count": null,
   "id": "3a577328",
   "metadata": {},
   "outputs": [],
   "source": [
    "desired_name = 'Jet'\n",
    "desired_cmap = cm.jet"
   ]
  },
  {
   "cell_type": "raw",
   "id": "75106b2f",
   "metadata": {},
   "source": [
    "# Another colormap\n",
    "desired_name = 'Reverse: Jet'\n",
    "desired_cmap = cm.jet_r"
   ]
  },
  {
   "cell_type": "code",
   "execution_count": null,
   "id": "a8731347",
   "metadata": {},
   "outputs": [],
   "source": [
    "# This will error if it is not there.\n",
    "colormaps.name_from_cmap(desired_cmap)"
   ]
  },
  {
   "cell_type": "code",
   "execution_count": null,
   "id": "d5d2991c",
   "metadata": {},
   "outputs": [],
   "source": [
    "colormaps.name_from_cmap(cm.gray)  # 'Gray' is pre-loaded already"
   ]
  },
  {
   "cell_type": "code",
   "execution_count": null,
   "id": "0cb12183",
   "metadata": {},
   "outputs": [],
   "source": [
    "# Add your colormap. Glue does not check for duplicates.\n",
    "colormaps.add(desired_name, desired_cmap)"
   ]
  },
  {
   "cell_type": "code",
   "execution_count": null,
   "id": "5f1ca5c8",
   "metadata": {},
   "outputs": [],
   "source": [
    "# Some data for Imviz.\n",
    "arr = np.arange(100).reshape((10, 10))"
   ]
  },
  {
   "cell_type": "code",
   "execution_count": null,
   "id": "678d4328",
   "metadata": {},
   "outputs": [],
   "source": [
    "# Imviz started *after* the colormap is added will contain it under Plot Options.\n",
    "# If you add another new colormap, you need to restart Imviz.\n",
    "imviz = Imviz()\n",
    "imviz.load_data(arr, data_label='array')\n",
    "imviz.app"
   ]
  },
  {
   "cell_type": "code",
   "execution_count": null,
   "id": "6ba1e410",
   "metadata": {},
   "outputs": [],
   "source": []
  }
 ],
 "metadata": {
  "kernelspec": {
   "display_name": "Python 3 (ipykernel)",
   "language": "python",
   "name": "python3"
  },
  "language_info": {
   "codemirror_mode": {
    "name": "ipython",
    "version": 3
   },
   "file_extension": ".py",
   "mimetype": "text/x-python",
   "name": "python",
   "nbconvert_exporter": "python",
   "pygments_lexer": "ipython3",
   "version": "3.9.7"
  }
 },
 "nbformat": 4,
 "nbformat_minor": 5
}
