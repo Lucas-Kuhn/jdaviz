{
 "cells": [
  {
   "cell_type": "code",
   "execution_count": null,
   "metadata": {},
   "outputs": [],
   "source": [
    "from jdaviz.configs.mosviz.helper import MosViz\n",
    "from astropy.io import fits"
   ]
  },
  {
   "cell_type": "code",
   "execution_count": null,
   "metadata": {
    "scrolled": false
   },
   "outputs": [],
   "source": [
    "mosviz = MosViz()\n",
    "mosviz.app"
   ]
  },
  {
   "cell_type": "code",
   "execution_count": null,
   "metadata": {},
   "outputs": [],
   "source": [
    "# Load NIRISS data from directory\n",
    "niriss_dir = \"/Users/javerbukh/Documents/data_for_mosviz/NIRISS_for_parser/\"\n",
    "mosviz.load_niriss_data(niriss_dir)"
   ]
  },
  {
   "cell_type": "markdown",
   "metadata": {},
   "source": [
    "# Everything below this line is code for testing/development purposes"
   ]
  },
  {
   "cell_type": "code",
   "execution_count": null,
   "metadata": {},
   "outputs": [],
   "source": [
    "niriss_x1d = \"/Users/javerbukh/Documents/data_for_mosviz/NIRISS_for_parser/smplmc_f090w_WFSSC_dit1_nis_x1d.fits\"\n",
    "niriss_image = \"/Users/javerbukh/Documents/data_for_mosviz/NIRISS_for_parser/smplmc_f090w_direct_dit1_nis_cal.fits\""
   ]
  },
  {
   "cell_type": "code",
   "execution_count": null,
   "metadata": {},
   "outputs": [],
   "source": [
    "from astropy.io import fits\n",
    "for s1d in spectra_1d:\n",
    "    hdu = fits.open(s1d)\n",
    "    print(hdu[0].header)\n",
    "    print(\"############################################\")"
   ]
  },
  {
   "cell_type": "code",
   "execution_count": null,
   "metadata": {},
   "outputs": [],
   "source": [
    "niriss_x2d = \"/Users/javerbukh/Documents/data_for_mosviz/NIRISS_for_parser/smplmc_f090w_WFSSC_dit1_nis_cal.fits\"\n",
    "niriss_hdu = fits.open(niriss_x2d)\n",
    "niriss_hdu.info()\n",
    "niriss_hdu[0].header"
   ]
  },
  {
   "cell_type": "code",
   "execution_count": null,
   "metadata": {},
   "outputs": [],
   "source": [
    "niriss_direct = \"/Users/javerbukh/Documents/data_for_mosviz/NIRISS_for_parser/smplmc_f090w_direct_dit1_nis_cal.fits\"\n",
    "niriss_hdu = fits.open(niriss_direct)\n",
    "niriss_hdu.info()\n",
    "niriss_hdu[1].header"
   ]
  },
  {
   "cell_type": "code",
   "execution_count": null,
   "metadata": {},
   "outputs": [],
   "source": [
    "nirspec_x1d = \"/Users/javerbukh/Documents/data_for_mosviz/mosviz_nirspec_data_0.3/level3/f170lp-g235m_mos_observation-6-c0e0_s00227_s2d.fits\"\n",
    "nirspec_hdu = fits.open(nirspec_x1d)\n",
    "nirspec_hdu.info()\n",
    "nirspec_hdu[1].header"
   ]
  },
  {
   "cell_type": "code",
   "execution_count": null,
   "metadata": {},
   "outputs": [],
   "source": [
    "mosviz.app.get_viewer('table-viewer')._selected_data"
   ]
  },
  {
   "cell_type": "code",
   "execution_count": null,
   "metadata": {},
   "outputs": [],
   "source": []
  }
 ],
 "metadata": {
  "kernelspec": {
   "display_name": "Python 3",
   "language": "python",
   "name": "python3"
  },
  "language_info": {
   "codemirror_mode": {
    "name": "ipython",
    "version": 3
   },
   "file_extension": ".py",
   "mimetype": "text/x-python",
   "name": "python",
   "nbconvert_exporter": "python",
   "pygments_lexer": "ipython3",
   "version": "3.8.5"
  }
 },
 "nbformat": 4,
 "nbformat_minor": 4
}
