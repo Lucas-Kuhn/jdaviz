{
 "cells": [
  {
   "cell_type": "markdown",
   "id": "852e11d6",
   "metadata": {},
   "source": [
    "# Imviz: Load 3D cube as 2D slices\n",
    "\n",
    "This showcases how Imviz can load 3D cube as 2D slices at `axis=0`."
   ]
  },
  {
   "cell_type": "code",
   "execution_count": null,
   "id": "662e9783",
   "metadata": {},
   "outputs": [],
   "source": [
    "import numpy as np\n",
    "\n",
    "from jdaviz import Imviz"
   ]
  },
  {
   "cell_type": "code",
   "execution_count": null,
   "id": "e2e74c3a",
   "metadata": {},
   "outputs": [],
   "source": [
    "# Generate the cube.\n",
    "arr = np.stack([np.random.random((10, 10)) for _ in range(5)])\n",
    "arr.shape"
   ]
  },
  {
   "cell_type": "code",
   "execution_count": null,
   "id": "e75f616e",
   "metadata": {},
   "outputs": [],
   "source": [
    "imviz = Imviz()\n",
    "imviz.load_data(arr, data_label='my_slices')\n",
    "imviz.app"
   ]
  },
  {
   "cell_type": "markdown",
   "id": "05c24b87",
   "metadata": {},
   "source": [
    "## You can also load it one slice at a time...\n",
    "\n",
    "But remember to manually link it at the end."
   ]
  },
  {
   "cell_type": "code",
   "execution_count": null,
   "id": "b07b7fd2",
   "metadata": {},
   "outputs": [],
   "source": [
    "imviz2 = Imviz()\n",
    "imviz2.app"
   ]
  },
  {
   "cell_type": "code",
   "execution_count": null,
   "id": "d38aa230",
   "metadata": {},
   "outputs": [],
   "source": [
    "for i in range(arr.shape[0]):\n",
    "    data = arr[i, :, :]\n",
    "    imviz2.load_data(data, data_label=f'a_{i}', do_link=False)\n",
    "\n",
    "imviz2.link_data(error_on_fail=True)  # Link them!"
   ]
  },
  {
   "cell_type": "markdown",
   "id": "11626756",
   "metadata": {},
   "source": [
    "## This is not Cubeviz, so...\n",
    "\n",
    "You have to plot the line profile manually, as follows."
   ]
  },
  {
   "cell_type": "code",
   "execution_count": null,
   "id": "fa2ede51",
   "metadata": {},
   "outputs": [],
   "source": [
    "import matplotlib.pyplot as plt\n",
    "\n",
    "%matplotlib inline"
   ]
  },
  {
   "cell_type": "code",
   "execution_count": null,
   "id": "f18e7353",
   "metadata": {},
   "outputs": [],
   "source": [
    "collapsed_mean = arr.mean(axis=(1, 2))\n",
    "collapsed_mean.shape"
   ]
  },
  {
   "cell_type": "code",
   "execution_count": null,
   "id": "0ea2c32e",
   "metadata": {},
   "outputs": [],
   "source": [
    "plt.plot(collapsed_mean, '-o')\n",
    "plt.title('Mean across slices')\n",
    "plt.xlabel('Slice index')\n",
    "plt.ylabel('Value');"
   ]
  },
  {
   "cell_type": "code",
   "execution_count": null,
   "id": "1abe2b74",
   "metadata": {},
   "outputs": [],
   "source": []
  }
 ],
 "metadata": {
  "kernelspec": {
   "display_name": "Python 3 (ipykernel)",
   "language": "python",
   "name": "python3"
  },
  "language_info": {
   "codemirror_mode": {
    "name": "ipython",
    "version": 3
   },
   "file_extension": ".py",
   "mimetype": "text/x-python",
   "name": "python",
   "nbconvert_exporter": "python",
   "pygments_lexer": "ipython3",
   "version": "3.10.0"
  }
 },
 "nbformat": 4,
 "nbformat_minor": 5
}
