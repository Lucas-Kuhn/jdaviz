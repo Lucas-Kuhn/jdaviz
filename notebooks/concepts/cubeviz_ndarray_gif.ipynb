{
 "cells": [
  {
   "cell_type": "markdown",
   "id": "f07603dd",
   "metadata": {},
   "source": [
    "# Cubeviz with Numpy Cube and GIF\n",
    "\n",
    "This concept notebook shows Cubeviz loading:\n",
    "\n",
    "  * plain Numpy array, and\n",
    "  * GIF animation as a playable cube"
   ]
  },
  {
   "cell_type": "code",
   "execution_count": null,
   "id": "0adf0be6",
   "metadata": {},
   "outputs": [],
   "source": [
    "from jdaviz import Cubeviz"
   ]
  },
  {
   "cell_type": "markdown",
   "id": "3bd69931",
   "metadata": {},
   "source": [
    "## From array\n",
    "\n",
    "For `flux-viewer`, `(0, 0)` of first slice should have value of zero and should be at bottom left, and then subsequent values should increase in row-major order.\n",
    "\n",
    "For `uncert-viewer`, the values are all random."
   ]
  },
  {
   "cell_type": "code",
   "execution_count": null,
   "id": "5fb6ab3e",
   "metadata": {},
   "outputs": [],
   "source": [
    "import numpy as np"
   ]
  },
  {
   "cell_type": "code",
   "execution_count": null,
   "id": "b52e2b0c",
   "metadata": {},
   "outputs": [],
   "source": [
    "a = np.arange(5 * 8 * 10).reshape((5, 8, 10))  # z, y, x\n",
    "b = np.random.random((5, 8, 10))"
   ]
  },
  {
   "cell_type": "code",
   "execution_count": null,
   "id": "385d69c9",
   "metadata": {},
   "outputs": [],
   "source": [
    "cubeviz = Cubeviz()"
   ]
  },
  {
   "cell_type": "code",
   "execution_count": null,
   "id": "3cd294b2",
   "metadata": {},
   "outputs": [],
   "source": [
    "cubeviz.load_data(a, data_label='ordered')\n",
    "cubeviz.load_data(b, data_label='random', data_type='uncert', override_cube_limit=True)"
   ]
  },
  {
   "cell_type": "code",
   "execution_count": null,
   "id": "d088e647",
   "metadata": {},
   "outputs": [],
   "source": [
    "cubeviz.show()"
   ]
  },
  {
   "cell_type": "markdown",
   "id": "014f2ab7",
   "metadata": {},
   "source": [
    "## From GIF\n",
    "\n",
    "The GIF is from https://media4.giphy.com/media/J5pnZ53pj4cmu30Rx5/giphy.gif. This needs `imageio` and Pillow to be installed as well."
   ]
  },
  {
   "cell_type": "code",
   "execution_count": null,
   "id": "fab04442",
   "metadata": {},
   "outputs": [],
   "source": [
    "filename = 'baby_shark.gif'"
   ]
  },
  {
   "cell_type": "code",
   "execution_count": null,
   "id": "c89c8d5f",
   "metadata": {},
   "outputs": [],
   "source": [
    "cubeviz = Cubeviz()"
   ]
  },
  {
   "cell_type": "code",
   "execution_count": null,
   "id": "137fdde0",
   "metadata": {},
   "outputs": [],
   "source": [
    "cubeviz.load_data(filename)"
   ]
  },
  {
   "cell_type": "code",
   "execution_count": null,
   "id": "ab4eca75",
   "metadata": {
    "scrolled": false
   },
   "outputs": [],
   "source": [
    "cubeviz.show()"
   ]
  },
  {
   "cell_type": "markdown",
   "id": "ea731202",
   "metadata": {},
   "source": [
    "After you load the file, you can run the following cell to play the GIF animation."
   ]
  },
  {
   "cell_type": "code",
   "execution_count": null,
   "id": "bb428d6d",
   "metadata": {},
   "outputs": [],
   "source": [
    "import time\n",
    "\n",
    "slice_plugin = cubeviz.plugins['Slice']\n",
    "interval = 0.1\n",
    "n_slices = cubeviz.app.data_collection[0].shape[-1]\n",
    "\n",
    "slice_plugin.slice = 0\n",
    "\n",
    "for i in range(1, n_slices):\n",
    "    time.sleep(interval)\n",
    "    slice_plugin.slice = i"
   ]
  },
  {
   "cell_type": "code",
   "execution_count": null,
   "id": "4d1af33f",
   "metadata": {},
   "outputs": [],
   "source": []
  }
 ],
 "metadata": {
  "kernelspec": {
   "display_name": "Python 3 (ipykernel)",
   "language": "python",
   "name": "python3"
  },
  "language_info": {
   "codemirror_mode": {
    "name": "ipython",
    "version": 3
   },
   "file_extension": ".py",
   "mimetype": "text/x-python",
   "name": "python",
   "nbconvert_exporter": "python",
   "pygments_lexer": "ipython3",
   "version": "3.10.4"
  }
 },
 "nbformat": 4,
 "nbformat_minor": 5
}
