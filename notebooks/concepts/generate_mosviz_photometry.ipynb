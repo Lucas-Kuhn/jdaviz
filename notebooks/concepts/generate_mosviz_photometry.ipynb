{
 "cells": [
  {
   "cell_type": "markdown",
   "id": "01609adc-98ac-41d2-8030-8eb545ca2fb0",
   "metadata": {},
   "source": [
    "# Synthetic image creation for MOSviz pipeline data\n",
    "\n",
    "**Motiviation**: The synthetic dataset we currently possess from the JWST data pipeline team for use in MOSviz contains simulated spectra from NIRSpec but no associated NIRCam photometry. We would like to have test imagery to display in MOSviz alongside these 2D and 1D spectra. We are unsure whether the pipeline team has plans to produce any.\n",
    "\n",
    "**Goal**: Populate an image of background noise with properly-scaled galaxy cutouts sourced from a Hubble Space Telescope image and placed at their analogous locations in the new image. These galaxies' real spectra do not necessarily correspond with those in our dataset, but we care more about the veneer of having photometry to match with our spectra at this point.\n",
    "\n",
    "**Execution**: We pull our galaxy cutouts and catalog information from the Hubble Deep Field image. ~~ASTRODEEP's image of the [Abell 2774 Parallel](http://astrodeep.u-strasbg.fr/ff/?img=JH140?cm=grayscale) | [MACS J0416.1-2403 Parallel](http://astrodeep.u-strasbg.fr/ff/?ffid=FF_M0416PAR&id=1264&cm=grayscale)~~. We sought to use [Artifactory](https://bytesalad.stsci.edu/ui/repos/tree/General/jwst-pipeline%2Fdev%2Ftruth) to obtain a range of RA/Dec over which to project our synthetic image, but that information was absent. Instead, we place the image over a manually chosen RA/Dec range and place the cutouts in randomly selected locations within that field of view.\n",
    "\n",
    "**Issues**:\n",
    "- We wanted to scrape RA/Dec information the data pipeline products to get a range of coordinates over which to scale our synthetic image, but it appears that the pipeline's data products lack `\"TARG_RA\"` or `\"TARG_DEC\"` keywords in their headers.\n",
    "    - The data products also don't appear to have WCS information. We don't strictly need it to achieve this notebook's goals, but it would be convenient to have.\n",
    "- There does not appear to be an observation with level 2 data in `jwst-pipeline/truth/test_nirspec_mos_spec2` and level 3 data in `jwst-pipeline/truth/test_nirspec_mos_spec3`. All observations are either level 2 only or level 3 only.\n",
    "- _(Resolved)_ A good number of the cutouts from the first couple of field images we tested had intrustions from other galaxies due to crowding. We settled on the Hubble Deep Field as a good source image, but had we not, we may have considered using galaxies modeled with Sersic profiles to get cleaner cutouts to inject into our synthetic image."
   ]
  },
  {
   "cell_type": "markdown",
   "id": "57df882f-e15d-4f16-931c-9f495893c0e1",
   "metadata": {},
   "source": [
    "### Import packages\n",
    "\n",
    "- We use `astropy.io.fits` to read in existing FITS files and write a new one with the synthetic image.\n",
    "- The objects from `astropy.nddata` help with creating cutouts once we've identified galaxies we'd like to take from the field image.\n",
    "- The methods from `astropy.stats` work with image data that's clipped to within a certain number of deviations from the mean.\n",
    "- The objects from `astropy.table` help with reading an modifiying tabular data.\n",
    "- `astropy.wcs.WCS` creates a World Coordinate System object that's useful for transforming on-sky data from one patch to another.\n",
    "- `glob.glob` lists local files that match a given pattern.\n",
    "- We use `matplotlib.pyplot` to preview the field image, the cutouts, and various stages of our synthetic image.\n",
    "- We use `numpy` to facilitate several specialized mathematical and array-related operations."
   ]
  },
  {
   "cell_type": "code",
   "execution_count": null,
   "id": "aba137f6-9bfa-4371-b927-21f30bf9b7fd",
   "metadata": {},
   "outputs": [],
   "source": [
    "from astropy.io import fits\n",
    "from astropy.nddata import block_reduce, Cutout2D\n",
    "from astropy.stats import sigma_clipped_stats, sigma_clip\n",
    "from astropy.table import Table, join\n",
    "from astropy.wcs import WCS\n",
    "from glob import glob\n",
    "\n",
    "import matplotlib.pyplot as plt\n",
    "import numpy as np"
   ]
  },
  {
   "cell_type": "markdown",
   "id": "fffd44de-ee89-4a46-8c75-198a94cf124d",
   "metadata": {},
   "source": [
    "### Generate galaxy cutouts\n",
    "\n",
    "The galaxy cutouts come from the Hubble Deep Field image. To retrieve them, we download the image itself and its associated catalog data, search the catalog for the brightest galaxies, then find those galaxies in the image."
   ]
  },
  {
   "cell_type": "code",
   "execution_count": null,
   "id": "e172b883-f625-4a41-b8a5-a2d13d41b396",
   "metadata": {},
   "outputs": [],
   "source": [
    "# download the image containing sources to be cut out later\n",
    "image_fits = fits.open('https://archive.stsci.edu/pub/hlsp/hdf/v2/mosaics/x4096/f814_mosaic_v2.fits')\n",
    "image_header = image_fits[0].header\n",
    "image_data = image_fits[0].data\n",
    "\n",
    "image_data.shape"
   ]
  },
  {
   "cell_type": "code",
   "execution_count": null,
   "id": "354bce9f-dc43-434b-a992-b6a636eda576",
   "metadata": {},
   "outputs": [],
   "source": [
    "# download sources' location and flux information\n",
    "source_info1 = Table.read('https://archive.stsci.edu/pub/hlsp/hdf/wfpc_hdfn_v2catalog/HDFN_wfpc_v2generic.cat',\n",
    "                          format='ascii')\n",
    "source_info2 = Table.read('https://archive.stsci.edu/pub/hlsp/hdf/wfpc_hdfn_v2catalog/HDFN_f814_v2.cat',\n",
    "                          format='ascii')\n",
    "sources = join(source_info1, source_info2)\n",
    "\n",
    "# confirm that both tables contain the same objects in the same order (True)\n",
    "( (source_info1['NUMBER'] == source_info2['NUMBER']).sum()\n",
    " == len(source_info1)\n",
    " == len(source_info2) )"
   ]
  },
  {
   "cell_type": "code",
   "execution_count": null,
   "id": "dedfe0f0-b1e4-49e7-b51a-bdf7f069fa06",
   "metadata": {},
   "outputs": [],
   "source": [
    "# sort sources by flux within 71.1 pixel diameter of source, or aperture 11\n",
    "sources.sort('FLUX_APER_11', reverse=True)\n",
    "\n",
    "# filter out likely stars and sources with negative flux\n",
    "sources = sources[(sources['CLASS_STAR'] < .5)\n",
    "                  & (sources['FLUX_APER_8'] > 0)]"
   ]
  },
  {
   "cell_type": "code",
   "execution_count": null,
   "id": "3efabf0f-ddbb-4900-9ba8-528998b4bb69",
   "metadata": {},
   "outputs": [],
   "source": [
    "sources[:5]"
   ]
  },
  {
   "cell_type": "code",
   "execution_count": null,
   "id": "f5dcc4be-4e10-45c0-a084-4d224abd6ba1",
   "metadata": {},
   "outputs": [],
   "source": [
    "# convert the sources' WCS locations to in-image pixel values\n",
    "image_wcs = WCS(image_fits[0].header)\n",
    "sources_x, sources_y = image_wcs.world_to_pixel_values(sources['ALPHA_J2000'],\n",
    "                                                       sources['DELTA_J2000'])"
   ]
  },
  {
   "cell_type": "markdown",
   "id": "6b4f1421-e3c3-4112-a475-dc1b7ad07146",
   "metadata": {},
   "source": [
    "Note: Depending on the value of `catalog_size`, the following cell can produce a lot of output. Right-click the cell and select \"Enable Scrolling for Outputs\" to expand it or \"Disable Scrolling for Outputs\" to condense it."
   ]
  },
  {
   "cell_type": "code",
   "execution_count": null,
   "id": "34f1f230-88da-44c3-803d-bb405fe6f6e7",
   "metadata": {
    "scrolled": true,
    "tags": []
   },
   "outputs": [],
   "source": [
    "# save a list of good cutouts for later use\n",
    "cutout_list = []\n",
    "first_source = 0\n",
    "catalog_size = 20\n",
    "downsample_factor = 2\n",
    "patch_length = 100\n",
    "\n",
    "for x, y in list(zip(sources_x, sources_y))[first_source:]:\n",
    "    # use pixel locations to cut a source from the image\n",
    "    cutout = Cutout2D(image_data, (x, y),\n",
    "                      patch_length * downsample_factor).data\n",
    "    \n",
    "    # bin by downsample_factor to increase field of view\n",
    "    cutout = block_reduce(cutout, downsample_factor)\n",
    "    \n",
    "    # skip any cutouts that extend past the image border\n",
    "    if (  np.all(cutout[-1] <= 0) or np.all(cutout[0] <= 0)\n",
    "          or np.all(cutout[:,-1] <= 0) or np.all(cutout[:,0] <= 0)  ):\n",
    "        continue\n",
    "        \n",
    "    # save and plot the new cutout\n",
    "    cutout_list.append(cutout)\n",
    "    \n",
    "    plt.imshow(cutout, vmin=-1e-5, vmax=image_data.std(),\n",
    "               origin='lower', cmap='bone')\n",
    "    plt.show()\n",
    "    \n",
    "    if len(cutout_list) == catalog_size:\n",
    "        break"
   ]
  },
  {
   "cell_type": "markdown",
   "id": "c3504d50-99cf-4d73-9678-1eff2ca43676",
   "metadata": {},
   "source": [
    "We also save image statistics calculated from pixels within a chosen number of standard deviations from the image's mean intensity. Some of them may be useful in creating the synthetic image later on."
   ]
  },
  {
   "cell_type": "code",
   "execution_count": null,
   "id": "5b0a6505-3bdd-4f8d-8c2c-e2b7b489d078",
   "metadata": {},
   "outputs": [],
   "source": [
    "clipped_mean, clipped_median, clipped_stddev = sigma_clipped_stats(image_data,\n",
    "                                                                   sigma=3.)"
   ]
  },
  {
   "cell_type": "markdown",
   "id": "53891064-621c-4f6f-91da-3a24741ad632",
   "metadata": {},
   "source": [
    "### Extract destination RA/Dec from spectra files\n",
    "\n",
    "Note that the following cells only run if on a connection with access to the STScI VPN. They use copies of JWST pipeline files from May 19, 2020.\n",
    "\n",
    "To run them elsewhere and/or use more current files, visit the [Artifactory](https://bytesalad.stsci.edu/ui/repos/tree/General/jwst-pipeline%2Fdev%2Ftruth%2Ftest_nirspec_mos_spec3), ensure the `jwst-pipeline/dev/truth/test_nirspec_mos_spec3/` folder is selected in the directory tree, and download all files whose names begin with `jw00626-o030` and end with `nirspec_f170lp-g235m_x1d.fits`. (The original version of the notebook uses six of these Level 3 data products.) Then, change `filepath` in the next cell to the location where you saved the downloaded files. Remember the trailing forward slash."
   ]
  },
  {
   "cell_type": "code",
   "execution_count": null,
   "id": "9436aa5d-54c9-4a1e-a983-7f8658920be6",
   "metadata": {},
   "outputs": [],
   "source": [
    "# view level 3 spectra FITS header information\n",
    "filepath = '/user/jotor/jwst-pipeline-lvl3/'\n",
    "x1d_header = fits.getheader(filepath + 'jw00626-o030_s00000_nirspec_f170lp-g235m_x1d.fits')\n",
    "#s2d_header = fits.getheader(filepath + 'jw00626-o030_s00000_nirspec_f170lp-g235m_s2d.fits')"
   ]
  },
  {
   "cell_type": "code",
   "execution_count": null,
   "id": "96dda8bd-5010-45ef-a937-b99ee54b8091",
   "metadata": {},
   "outputs": [],
   "source": [
    "x1d_header['TARG_RA'], x1d_header['TARG_DEC']"
   ]
  },
  {
   "cell_type": "code",
   "execution_count": null,
   "id": "ade024d2-9788-4572-9304-af69c30e86da",
   "metadata": {},
   "outputs": [],
   "source": [
    "WCS(x1d_header)"
   ]
  },
  {
   "cell_type": "markdown",
   "id": "809be77d-b099-40a3-8a85-42a7a2cf3244",
   "metadata": {},
   "source": [
    "Notice that this header lacks WCS information. Additionally, examining all of this observation's file headers reveals that they all have the same RA/Dec, which is not what we expect for its different \"pointings.\""
   ]
  },
  {
   "cell_type": "code",
   "execution_count": null,
   "id": "879040fb-eb58-4e4c-8173-a289b21a61e2",
   "metadata": {},
   "outputs": [],
   "source": [
    "# search for RA/Dec information from Artifactory observation files\n",
    "x1d_header_list = [fits.getheader(file)\n",
    "                   for file in glob(filepath + 'jw00626*x1d.fits')]\n",
    "\n",
    "ras, decs = np.array([[h['TARG_RA'], h['TARG_DEC']] for h in x1d_header_list]).T\n",
    "ras, decs"
   ]
  },
  {
   "cell_type": "markdown",
   "id": "debb3ccc-88ec-4e2d-bf50-69e8361f7d4b",
   "metadata": {},
   "source": [
    "Since the headers lack the information we seek, we randomly generate our sources' RA/Dec information in predetermined patch of sky. We take the patch size from the size of NIRSpec Micro-Shutter Assembly (MSA) -- about 3.6'x3.4'-- approximated to a square field of view."
   ]
  },
  {
   "cell_type": "code",
   "execution_count": null,
   "id": "9931cde4-5f77-4a40-96e5-32d252bec47c",
   "metadata": {},
   "outputs": [],
   "source": [
    "np.random.seed(19)\n",
    "ras = np.random.uniform(0, 1/15, catalog_size)\n",
    "decs = np.random.uniform(-1/30, 1/30, catalog_size)"
   ]
  },
  {
   "cell_type": "markdown",
   "id": "c4b5da62-c424-4603-adc3-4c550291d13a",
   "metadata": {},
   "source": [
    "### Create synthetic image\n",
    "\n",
    "We initialize a `numpy` array and fill it with normally-distributed background noise based on some of the clipped image statistics that were calculated earlier."
   ]
  },
  {
   "cell_type": "code",
   "execution_count": null,
   "id": "6d1f9e28-a5fa-4091-bea6-72c88b48e564",
   "metadata": {},
   "outputs": [],
   "source": [
    "synth_img_size = 1000\n",
    "synth_image = np.zeros((synth_img_size, synth_img_size))"
   ]
  },
  {
   "cell_type": "code",
   "execution_count": null,
   "id": "cb856895-9b87-44c8-8c4b-2cbab45edb76",
   "metadata": {},
   "outputs": [],
   "source": [
    "# add noise\n",
    "synth_image += np.random.normal(loc=clipped_mean, scale=clipped_stddev*8,\n",
    "                                size=synth_image.shape)"
   ]
  },
  {
   "cell_type": "code",
   "execution_count": null,
   "id": "3b52414b-453c-43eb-984b-e856c284cb95",
   "metadata": {},
   "outputs": [],
   "source": [
    "imshow_params = {'cmap': 'bone', 'origin': 'lower'}\n",
    "plt.imshow(synth_image, **imshow_params)\n",
    "plt.show()"
   ]
  },
  {
   "cell_type": "markdown",
   "id": "674017bb-2cc1-437a-bf3a-449f306fa506",
   "metadata": {},
   "source": [
    "### Fill out new WCS object for `synth_image`\n",
    "\n",
    "Creating a `WCS` object for `synth_image` allows it to be mathematically transformed into a projection on the sky. That projection can then be compared to other FITS images with their own `WCS` information."
   ]
  },
  {
   "cell_type": "code",
   "execution_count": null,
   "id": "1cd4ee37-d41f-4ddd-960c-447a72b1faa2",
   "metadata": {},
   "outputs": [],
   "source": [
    "synth_wcs = WCS(naxis=2)\n",
    "synth_wcs"
   ]
  },
  {
   "cell_type": "markdown",
   "id": "c1a2876e-963b-4e62-8dd1-d68fb4b4e0a7",
   "metadata": {},
   "source": [
    "The next step is to calculate field of view information for `synth_image`."
   ]
  },
  {
   "cell_type": "code",
   "execution_count": null,
   "id": "068af407-9a8a-429c-9f7e-03f4f0a0b867",
   "metadata": {},
   "outputs": [],
   "source": [
    "# find the range of sources in RA and dec\n",
    "ra_bounds = np.array([ras.max(), ras.min()])\n",
    "dec_bounds = np.array([decs.max(), decs.min()])\n",
    "\n",
    "delta_ra = np.ptp(ras)\n",
    "delta_dec = np.ptp(decs)"
   ]
  },
  {
   "cell_type": "code",
   "execution_count": null,
   "id": "d70d1d2a-8c9c-40b7-b31f-3a72377279df",
   "metadata": {},
   "outputs": [],
   "source": [
    "# save the maximum span in coordinates, RA or dec\n",
    "if delta_ra > delta_dec:\n",
    "    min_image_fov = abs(delta_ra * np.cos(np.pi / 180 * dec_bounds.sum() / 2))\n",
    "else:\n",
    "    min_image_fov = delta_dec\n",
    "    \n",
    "min_image_fov"
   ]
  },
  {
   "cell_type": "code",
   "execution_count": null,
   "id": "308eb86b-5a67-4fbe-bf31-04a08642537a",
   "metadata": {},
   "outputs": [],
   "source": [
    "# scale this field of view (FOV) by pixels\n",
    "pix_scale = min_image_fov / synth_img_size\n",
    "\n",
    "# add a buffer to the FOV's borders to prevent clipping sources\n",
    "pix_scale *= 1.5\n",
    "pix_scale"
   ]
  },
  {
   "cell_type": "markdown",
   "id": "d28eb2e7-d3a1-4190-978a-8be1b30d3a3c",
   "metadata": {},
   "source": [
    "With those calculations done, the `WCS` object is ready to be filled out."
   ]
  },
  {
   "cell_type": "code",
   "execution_count": null,
   "id": "09dadad8-902d-4119-a317-c10064968597",
   "metadata": {
    "tags": []
   },
   "outputs": [],
   "source": [
    "synth_wcs.wcs.ctype = ['RA---TAN', 'DEC--TAN']\n",
    "\n",
    "# match value of center pixel of detector to value of FOV's central coordinate in the sky\n",
    "synth_wcs.wcs.crpix = [synth_img_size / 2, synth_img_size / 2]\n",
    "synth_wcs.wcs.crval = [ra_bounds.sum() / 2, dec_bounds.sum() / 2]\n",
    "\n",
    "# distance (in sky coordinates) traversed by one pixel length in each dimension\n",
    "synth_wcs.wcs.cdelt = [-pix_scale, pix_scale]\n",
    "\n",
    "synth_wcs"
   ]
  },
  {
   "cell_type": "markdown",
   "id": "5792df4f-c0d6-49a5-be72-a7c5ab39d9b4",
   "metadata": {},
   "source": [
    "### Populate `synth_image` with the cutouts\n",
    "\n",
    "Finally, we convert the cutouts' coordinates to pixels and add them into `synth_image` to complete the creation of the mock image."
   ]
  },
  {
   "cell_type": "code",
   "execution_count": null,
   "id": "34c92d83-8e78-4cc5-8df3-728cb51d6567",
   "metadata": {},
   "outputs": [],
   "source": [
    "# convert source RAs/decs from real coordinates to pixels \n",
    "ras_pix, decs_pix = np.round(synth_wcs.world_to_pixel_values(ras, decs)).astype(int)\n",
    "ras_pix, decs_pix"
   ]
  },
  {
   "cell_type": "code",
   "execution_count": null,
   "id": "c587e262-15fc-4fec-b5d3-b9d173afc286",
   "metadata": {},
   "outputs": [],
   "source": [
    "cutout_half_delta = patch_length // 2\n",
    "\n",
    "for i in range(len(ras_pix)):\n",
    "    synth_image[ras_pix[i] - cutout_half_delta : ras_pix[i] + cutout_half_delta,\n",
    "                decs_pix[i] - cutout_half_delta : decs_pix[i] + cutout_half_delta] += cutout_list[i]"
   ]
  },
  {
   "cell_type": "code",
   "execution_count": null,
   "id": "9bccee92-2930-4116-b599-0269fdf1d2dc",
   "metadata": {},
   "outputs": [],
   "source": [
    "fig, ax = plt.subplots(figsize=(10,10))\n",
    "ax.imshow(synth_image, vmin=0, vmax=synth_image.std()*3, **imshow_params)\n",
    "\n",
    "plt.show()"
   ]
  },
  {
   "cell_type": "markdown",
   "id": "eb2a0045-74b6-4ac2-85a8-c535e1a64800",
   "metadata": {},
   "source": [
    "Save the image, overwriting the previous file if it already exists in the current directory."
   ]
  },
  {
   "cell_type": "code",
   "execution_count": null,
   "id": "337dc041-618e-4f5d-bcb2-845cacbfac31",
   "metadata": {},
   "outputs": [],
   "source": [
    "fits.writeto('synthetic_HDF_more.fits', synth_image,\n",
    "             header=synth_wcs.to_header(), overwrite=True)"
   ]
  },
  {
   "cell_type": "markdown",
   "id": "fe8817e2-51f4-4417-84ce-659c9449e87a",
   "metadata": {},
   "source": [
    "<p>\n",
    "    <span style=\"line-height: 60px;\"> <i> Authors: Robel Geda and O. Justin Otor </i> </span>\n",
    "    <img style=\"float: right;/* clear: right; */vertical-align: text-bottom;display: inline-block;\" src=\"https://raw.githubusercontent.com/spacetelescope/notebooks/master/assets/stsci_pri_combo_mark_horizonal_white_bkgd.png\" alt=\"Space Telescope Logo\" width=\"200px\">\n",
    "</p>\n",
    "\n",
    "-----"
   ]
  }
 ],
 "metadata": {
  "kernelspec": {
   "display_name": "Python 3",
   "language": "python",
   "name": "python3"
  },
  "language_info": {
   "codemirror_mode": {
    "name": "ipython",
    "version": 3
   },
   "file_extension": ".py",
   "mimetype": "text/x-python",
   "name": "python",
   "nbconvert_exporter": "python",
   "pygments_lexer": "ipython3",
   "version": "3.8.8"
  }
 },
 "nbformat": 4,
 "nbformat_minor": 5
}
