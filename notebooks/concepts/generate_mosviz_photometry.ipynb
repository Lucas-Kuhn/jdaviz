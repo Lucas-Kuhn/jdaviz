{
 "cells": [
  {
   "cell_type": "markdown",
   "id": "e5e8735c-0e9a-4533-a4e2-f2b6b9ece9f9",
   "metadata": {},
   "source": [
    "# Synthetic image creation for MOSviz pipeline data\n",
    "\n",
    "**Motiviation**: The synthetic dataset we've received from the JWST data pipeline team for use in MOSviz contains simulated spectra from NIRSpec, but no simulated photometry from NIRCam. We'd like to have test imagery to display in MOSviz alongside the 2D and 1D spectra we already possess. We've learned that the pipeline team has no plans to produce any, so we attempt to piece together our own.\n",
    "\n",
    "**Goal**: Populate an image of background noise with properly-scaled galaxy cutouts sourced from an HST image and placed at their respective WCS locations. These galaxies' real spectra don't necessarily correspond with those in our dataset, but at this point we care more about the veneer of having  photometry to match with our spectra.\n",
    "\n",
    "**Execution**: We pull our galaxy cutouts and catalog information from the Hubble Deep Field image. ~~ASTRODEEP's image of the [Abell 2774 Parallel](http://astrodeep.u-strasbg.fr/ff/?img=JH140?cm=grayscale) | [MACS J0416.1-2403 Parallel](http://astrodeep.u-strasbg.fr/ff/?ffid=FF_M0416PAR&id=1264&cm=grayscale)~~. We sought to use [Artifactory](https://bytesalad.stsci.edu/ui/repos/tree/General/jwst-pipeline%2Fdev%2Ftruth) to obtain a range of RA/Dec over which to project our synthetic image, but that information was absent. Instead, we place the image over a manually chosen RA/Dec range and place the cutouts in randomly selected locations within that field of view.\n",
    "\n",
    "**Issues**:\n",
    "- We wanted to scrape RA/Dec information the data pipeline products to get a range of coordinates over which to scale our synthetic image, but it appears that the pipeline's data products don't have `\"TARG_RA\"` or `\"TARG_DEC\"` keywords in their headers.\n",
    "    - The data products also don't appear to have WCS information. We don't strictly need it to achieve this notebook's goals, but it would be convenient to have.\n",
    "- There doesn't appear to be an observation with level 2 data in `jwst-pipeline/truth/test_nirspec_mos_spec2` and level 3 data in `jwst-pipeline/truth/test_nirspec_mos_spec3`. All observations are either level 2 only or level 3 only.\n",
    "- _(Resolved)_ A good number of the cutouts from the first couple of field images we tested had intrustions from other galaxies due to crowding. We settled on the Hubble Deep Field as a good source image, but if we hadn't, we may have considered using galaxies modeled with Sersic profiles to get cleaner cutouts to inject into our synthetic image.\n",
    "\n",
    "*Writers: Robel Geda and O. Justin Otor*"
   ]
  },
  {
   "cell_type": "code",
   "execution_count": null,
   "id": "aba137f6-9bfa-4371-b927-21f30bf9b7fd",
   "metadata": {},
   "outputs": [],
   "source": [
    "from astropy.io import fits\n",
    "from astropy.nddata import block_reduce, Cutout2D\n",
    "from astropy.stats import sigma_clipped_stats, sigma_clip\n",
    "from astropy.table import Table, join\n",
    "from astropy.wcs import WCS\n",
    "from glob import glob\n",
    "\n",
    "import matplotlib.pyplot as plt\n",
    "import numpy as np"
   ]
  },
  {
   "cell_type": "markdown",
   "id": "fffd44de-ee89-4a46-8c75-198a94cf124d",
   "metadata": {},
   "source": [
    "### Generate galaxy cutouts"
   ]
  },
  {
   "cell_type": "code",
   "execution_count": null,
   "id": "e172b883-f625-4a41-b8a5-a2d13d41b396",
   "metadata": {},
   "outputs": [],
   "source": [
    "# download the image containing sources to be cut out later\n",
    "image_fits = fits.open('https://archive.stsci.edu/pub/hlsp/hdf/v2/mosaics/x4096/f814_mosaic_v2.fits')\n",
    "image_header = image_fits[0].header\n",
    "image_data = image_fits[0].data\n",
    "\n",
    "image_data.shape"
   ]
  },
  {
   "cell_type": "code",
   "execution_count": null,
   "id": "354bce9f-dc43-434b-a992-b6a636eda576",
   "metadata": {},
   "outputs": [],
   "source": [
    "# download those sources' locations in the image and sort them by brightness\n",
    "source_info1 = Table.read('https://archive.stsci.edu/pub/hlsp/hdf/wfpc_hdfn_v2catalog/HDFN_wfpc_v2generic.cat',\n",
    "                          format='ascii')\n",
    "source_info2 = Table.read('https://archive.stsci.edu/pub/hlsp/hdf/wfpc_hdfn_v2catalog/HDFN_f814_v2.cat',\n",
    "                          format='ascii')\n",
    "sources = table_join(source_info1, source_info2)\n",
    "\n",
    "# confirm that both tables contain the same objects in the same order\n",
    "(source_info1['NUMBER'] == source_info2['NUMBER']).sum() == len(source_info1) == len(source_info2)"
   ]
  },
  {
   "cell_type": "code",
   "execution_count": null,
   "id": "dedfe0f0-b1e4-49e7-b51a-bdf7f069fa06",
   "metadata": {},
   "outputs": [],
   "source": [
    "# sort sources by flux contained within 71.1 pixel diameter of source (11)\n",
    "sources.sort('FLUX_APER_11', reverse=True)\n",
    "#sources.sort('KRON_RADIUS', reverse=True)\n",
    "#sources.sort('FWHM_IMAGE')\n",
    "\n",
    "# filter out likely stars and sources with negative flux\n",
    "sources = sources[(sources['CLASS_STAR'] < .5)\n",
    "                  & (sources['FLUX_APER_8'] > 0)]"
   ]
  },
  {
   "cell_type": "code",
   "execution_count": null,
   "id": "3efabf0f-ddbb-4900-9ba8-528998b4bb69",
   "metadata": {},
   "outputs": [],
   "source": [
    "sources[:5]"
   ]
  },
  {
   "cell_type": "code",
   "execution_count": null,
   "id": "f5dcc4be-4e10-45c0-a084-4d224abd6ba1",
   "metadata": {},
   "outputs": [],
   "source": [
    "# convert the sources' WCS locations to in-image pixel values\n",
    "image_wcs = WCS(image_fits[0].header)\n",
    "sources_x, sources_y = image_wcs.world_to_pixel_values(sources['ALPHA_J2000'],\n",
    "                                                       sources['DELTA_J2000'])"
   ]
  },
  {
   "cell_type": "code",
   "execution_count": null,
   "id": "34f1f230-88da-44c3-803d-bb405fe6f6e7",
   "metadata": {
    "scrolled": true,
    "tags": []
   },
   "outputs": [],
   "source": [
    "# save a list of good cutouts for later use\n",
    "cutout_list = []\n",
    "first_source = 0\n",
    "catalog_size = 20\n",
    "downsample_factor = 2\n",
    "patch_length = 100\n",
    "\n",
    "for x, y in list(zip(sources_x, sources_y))[first_source:]:\n",
    "    # use pixel locations to cut a source from the image\n",
    "    cutout = Cutout2D(image_data, (x, y),\n",
    "                      patch_length * downsample_factor).data\n",
    "    \n",
    "    # bin by downsample_factor to increase field of view\n",
    "    cutout = block_reduce(cutout, downsample_factor)\n",
    "    \n",
    "    # skip any cutouts that extend past the image border\n",
    "    if (  np.all(cutout[-1] <= 0) or np.all(cutout[0] <= 0)\n",
    "          or np.all(cutout[:,-1] <= 0) or np.all(cutout[:,0] <= 0)  ):\n",
    "        continue\n",
    "        \n",
    "    # save and plot the new cutout\n",
    "    cutout_list.append(cutout)\n",
    "    \n",
    "    plt.imshow(cutout, vmin=-1e-5, vmax=image_data.std(),\n",
    "               origin='lower', cmap='bone')\n",
    "    plt.show()\n",
    "    \n",
    "    if len(cutout_list) == catalog_size:\n",
    "        break"
   ]
  },
  {
   "cell_type": "code",
   "execution_count": null,
   "id": "5b0a6505-3bdd-4f8d-8c2c-e2b7b489d078",
   "metadata": {},
   "outputs": [],
   "source": [
    "clipped_mean, clipped_median, clipped_stddev = sigma_clipped_stats(image_data, sigma=3.)"
   ]
  },
  {
   "cell_type": "markdown",
   "id": "53891064-621c-4f6f-91da-3a24741ad632",
   "metadata": {},
   "source": [
    "### Extract destination RA/Dec from spectra files"
   ]
  },
  {
   "cell_type": "code",
   "execution_count": null,
   "id": "9436aa5d-54c9-4a1e-a983-7f8658920be6",
   "metadata": {},
   "outputs": [],
   "source": [
    "# save level 3 spectra FITS header information\n",
    "# (is there a way to do so using the URL?)\n",
    "# 'https://bytesalad.stsci.edu/ui/repos/tree/General/jwst-pipeline%2Fdev%2Ftruth%2Ftest_nirspec_mos_spec3%2Fjw00626-o030_s00000_nirspec_f170lp-g235m_s2d.fits'\n",
    "x1d_header = fits.getheader('/Users/jotor/Downloads/jw00626-o030_s00000_nirspec_f170lp-g235m_x1d.fits')\n",
    "s2d_header = fits.getheader('/Users/jotor/Downloads/jw00626-o030_s00000_nirspec_f170lp-g235m_s2d.fits')"
   ]
  },
  {
   "cell_type": "code",
   "execution_count": null,
   "id": "bb2858ac-e8e9-4c80-a2ac-72947ed7195b",
   "metadata": {},
   "outputs": [],
   "source": [
    "for k, v in x1d_header.items():\n",
    "    if 'or' in k.lower():\n",
    "        print(k, v)"
   ]
  },
  {
   "cell_type": "code",
   "execution_count": null,
   "id": "96dda8bd-5010-45ef-a937-b99ee54b8091",
   "metadata": {},
   "outputs": [],
   "source": [
    "(x1d_header['TARG_RA'], x1d_header['TARG_DEC'],\n",
    " s2d_header['TARG_RA'], s2d_header['TARG_DEC'])"
   ]
  },
  {
   "cell_type": "code",
   "execution_count": null,
   "id": "a4ecfbe4-bc85-4d94-b660-e50d0bf621ba",
   "metadata": {},
   "outputs": [],
   "source": [
    "# no WCS data... not what we want\n",
    "WCS(x1d_header)"
   ]
  },
  {
   "cell_type": "code",
   "execution_count": null,
   "id": "879040fb-eb58-4e4c-8173-a289b21a61e2",
   "metadata": {},
   "outputs": [],
   "source": [
    "# search for RA/Dec information from Artifactory observation files\n",
    "x1d_header_list = [fits.getheader(file) for file in glob('/Users/jotor/Downloads/jw00626*x1d.fits')]\n",
    "\n",
    "# all the same... not what we want\n",
    "ras, decs = np.array([[h['TARG_RA'], h['TARG_DEC']] for h in x1d_header_list]).T\n",
    "ras, decs"
   ]
  },
  {
   "cell_type": "code",
   "execution_count": null,
   "id": "9931cde4-5f77-4a40-96e5-32d252bec47c",
   "metadata": {},
   "outputs": [],
   "source": [
    "# since all information is the same, we randomly generate our own RAs/decs\n",
    "# (ranges based on NIRSpec MSA's on-sky projection size of 3.6x3.4 arcmins)\n",
    "np.random.seed(19)\n",
    "ras = np.random.uniform(0, 1/15, catalog_size)\n",
    "decs = np.random.uniform(-1/30, 1/30, catalog_size)"
   ]
  },
  {
   "cell_type": "markdown",
   "id": "c4b5da62-c424-4603-adc3-4c550291d13a",
   "metadata": {},
   "source": [
    "### Create synthetic image"
   ]
  },
  {
   "cell_type": "code",
   "execution_count": null,
   "id": "6d1f9e28-a5fa-4091-bea6-72c88b48e564",
   "metadata": {},
   "outputs": [],
   "source": [
    "# create synthetic image onto which cutouts will be pasted\n",
    "synth_img_size = 1000\n",
    "synth_image = np.zeros((synth_img_size, synth_img_size))"
   ]
  },
  {
   "cell_type": "code",
   "execution_count": null,
   "id": "cb856895-9b87-44c8-8c4b-2cbab45edb76",
   "metadata": {},
   "outputs": [],
   "source": [
    "# add noise\n",
    "synth_image += np.random.normal(loc=clipped_mean, scale=clipped_stddev*8,\n",
    "                                size=synth_image.shape)\n",
    "# synth_image += np.random.normal(loc=image_data.mean(), scale=image_data.std(),\n",
    "#                                size=synth_image.shape)"
   ]
  },
  {
   "cell_type": "code",
   "execution_count": null,
   "id": "3b52414b-453c-43eb-984b-e856c284cb95",
   "metadata": {},
   "outputs": [],
   "source": [
    "plt.imshow(synth_image, cmap='bone')\n",
    "plt.show()"
   ]
  },
  {
   "cell_type": "markdown",
   "id": "674017bb-2cc1-437a-bf3a-449f306fa506",
   "metadata": {},
   "source": [
    "### Fill out new WCS object for `synth_image`"
   ]
  },
  {
   "cell_type": "code",
   "execution_count": null,
   "id": "1cd4ee37-d41f-4ddd-960c-447a72b1faa2",
   "metadata": {},
   "outputs": [],
   "source": [
    "synth_wcs = WCS(naxis=2)\n",
    "synth_wcs"
   ]
  },
  {
   "cell_type": "code",
   "execution_count": null,
   "id": "0d8aa070-1b6f-4a0a-9975-58bf5634ff86",
   "metadata": {
    "tags": []
   },
   "outputs": [],
   "source": [
    "ra_bounds = np.array([ras.max(), ras.min()])\n",
    "dec_bounds = np.array([decs.max(), decs.min()])"
   ]
  },
  {
   "cell_type": "code",
   "execution_count": null,
   "id": "80f9d82c-2a63-42f9-8cdc-2dc5d979062e",
   "metadata": {},
   "outputs": [],
   "source": [
    "delta_ra = ras.max() - ras.min()\n",
    "delta_dec = decs.max() - decs.min()"
   ]
  },
  {
   "cell_type": "code",
   "execution_count": null,
   "id": "d70d1d2a-8c9c-40b7-b31f-3a72377279df",
   "metadata": {},
   "outputs": [],
   "source": [
    "# set minimum FOV as maximum range in RA or dec\n",
    "if delta_ra > delta_dec:\n",
    "    min_image_fov = abs(delta_ra * np.cos(np.pi/180 * dec_bounds.sum()/2))\n",
    "else:\n",
    "    min_image_fov = delta_dec\n",
    "    \n",
    "min_image_fov"
   ]
  },
  {
   "cell_type": "code",
   "execution_count": null,
   "id": "308eb86b-5a67-4fbe-bf31-04a08642537a",
   "metadata": {},
   "outputs": [],
   "source": [
    "# scale this FOV by pixels\n",
    "pix_scale = min_image_fov / synth_img_size\n",
    "\n",
    "# add a buffer to the borders\n",
    "pix_scale *= 1.5\n",
    "pix_scale"
   ]
  },
  {
   "cell_type": "code",
   "execution_count": null,
   "id": "09dadad8-902d-4119-a317-c10064968597",
   "metadata": {
    "tags": []
   },
   "outputs": [],
   "source": [
    "synth_wcs.wcs.ctype = ['RA---TAN', 'DEC--TAN']\n",
    "\n",
    "# match value of center pixel of detector to value of FOV's central coordinate in the sky\n",
    "synth_wcs.wcs.crpix = [synth_img_size / 2, synth_img_size / 2]\n",
    "synth_wcs.wcs.crval = [ra_bounds.sum() / 2, dec_bounds.sum() / 2]\n",
    "\n",
    "# distance (in sky coordinates) traversed by one pixel length in each dimension\n",
    "synth_wcs.wcs.cdelt = [-pix_scale, pix_scale]\n",
    "\n",
    "synth_wcs"
   ]
  },
  {
   "cell_type": "code",
   "execution_count": null,
   "id": "8f92545b-5c5d-4ab3-a9d6-ec61e2d329a6",
   "metadata": {},
   "outputs": [],
   "source": [
    "# convert source RAs/decs from real coordinates to pixels \n",
    "ras_pix, decs_pix = np.round(synth_wcs.world_to_pixel_values(ras, decs)).astype(int)\n",
    "ras_pix, decs_pix"
   ]
  },
  {
   "cell_type": "markdown",
   "id": "5792df4f-c0d6-49a5-be72-a7c5ab39d9b4",
   "metadata": {},
   "source": [
    "### Populate `synth_image` with the cutouts"
   ]
  },
  {
   "cell_type": "code",
   "execution_count": null,
   "id": "c587e262-15fc-4fec-b5d3-b9d173afc286",
   "metadata": {},
   "outputs": [],
   "source": [
    "cutout_half_delta = patch_length // 2\n",
    "\n",
    "for i in range(len(ras_pix)):\n",
    "    synth_image[ras_pix[i] - cutout_half_delta : ras_pix[i] + cutout_half_delta,\n",
    "                decs_pix[i] - cutout_half_delta : decs_pix[i] + cutout_half_delta] += cutout_list[i]"
   ]
  },
  {
   "cell_type": "code",
   "execution_count": null,
   "id": "9bccee92-2930-4116-b599-0269fdf1d2dc",
   "metadata": {},
   "outputs": [],
   "source": [
    "fig, ax = plt.subplots(figsize=(10,10))\n",
    "ax.imshow(synth_image, vmin=0, vmax=synth_image.std()*3, origin='lower', cmap='bone')\n",
    "#plt.imshow(synth_image, vmin=0, vmax=synth_image.mean()*3, origin='lower', cmap='bone')\n",
    "plt.show()"
   ]
  },
  {
   "cell_type": "code",
   "execution_count": null,
   "id": "337dc041-618e-4f5d-bcb2-845cacbfac31",
   "metadata": {},
   "outputs": [],
   "source": [
    "fits.writeto('synthetic_HDF_more.fits', synth_image,\n",
    "             header=synth_wcs.to_header(), overwrite=True)"
   ]
  }
 ],
 "metadata": {
  "kernelspec": {
   "display_name": "Python 3",
   "language": "python",
   "name": "python3"
  },
  "language_info": {
   "codemirror_mode": {
    "name": "ipython",
    "version": 3
   },
   "file_extension": ".py",
   "mimetype": "text/x-python",
   "name": "python",
   "nbconvert_exporter": "python",
   "pygments_lexer": "ipython3",
   "version": "3.8.8"
  }
 },
 "nbformat": 4,
 "nbformat_minor": 5
}
