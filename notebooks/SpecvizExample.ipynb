{
 "cells": [
  {
   "cell_type": "markdown",
   "metadata": {},
   "source": [
    "# SpecViz Demo Notebook\n",
    "## Basic Machinery"
   ]
  },
  {
   "cell_type": "code",
   "execution_count": null,
   "metadata": {},
   "outputs": [],
   "source": [
    "import astropy.units as u\n",
    "import specutils"
   ]
  },
  {
   "cell_type": "code",
   "execution_count": null,
   "metadata": {},
   "outputs": [],
   "source": [
    "# Suppress warnings\n",
    "import warnings\n",
    "\n",
    "with warnings.catch_warnings():\n",
    "    warnings.simplefilter(\"ignore\")"
   ]
  },
  {
   "cell_type": "markdown",
   "metadata": {},
   "source": [
    "## Create SpecViz via Helper"
   ]
  },
  {
   "cell_type": "code",
   "execution_count": null,
   "metadata": {
    "scrolled": false
   },
   "outputs": [],
   "source": [
    "from jdaviz import SpecViz\n",
    "specviz = SpecViz()"
   ]
  },
  {
   "cell_type": "markdown",
   "metadata": {},
   "source": [
    "## Load a file to SpecViz"
   ]
  },
  {
   "cell_type": "code",
   "execution_count": null,
   "metadata": {},
   "outputs": [],
   "source": [
    "from astropy.utils.data import download_file\n",
    "fn = download_file('https://data.sdss.org/sas/dr14/sdss/spectro/redux/26/spectra/0751/spec-0751-52251-0160.fits', cache=True)\n",
    "specviz.load_spectrum(fn, \"myfile\", format=\"SDSS-III/IV spec\")"
   ]
  },
  {
   "cell_type": "markdown",
   "metadata": {},
   "source": [
    "## Display SpecViz"
   ]
  },
  {
   "cell_type": "code",
   "execution_count": null,
   "metadata": {
    "scrolled": false
   },
   "outputs": [],
   "source": [
    "specviz.app"
   ]
  },
  {
   "cell_type": "markdown",
   "metadata": {},
   "source": [
    "## Subset Retrieval\n",
    "User Task: Select a subset in the viewer above\n",
    "\n",
    "After defining regions in your spectra, you can retrieve your subsets through different means. To retrieve your subset by name:"
   ]
  },
  {
   "cell_type": "code",
   "execution_count": null,
   "metadata": {},
   "outputs": [],
   "source": [
    "specviz.get_spectra('Subset 1')"
   ]
  },
  {
   "cell_type": "markdown",
   "metadata": {},
   "source": [
    "Or you can retrieve all defined regions/subsets:"
   ]
  },
  {
   "cell_type": "code",
   "execution_count": null,
   "metadata": {},
   "outputs": [],
   "source": [
    "specviz.app.get_subsets_from_viewer('spectrum-viewer')"
   ]
  },
  {
   "cell_type": "markdown",
   "metadata": {},
   "source": [
    "## Screenshot Saving"
   ]
  },
  {
   "cell_type": "code",
   "execution_count": null,
   "metadata": {},
   "outputs": [],
   "source": [
    "specviz.app.get_viewer(\"spectrum-viewer\").figure.save_png()"
   ]
  },
  {
   "cell_type": "markdown",
   "metadata": {},
   "source": [
    "## Panning/Zooming in SpecViz\n",
    "### Limit Methods\n",
    "You can use the methods x_limits() and y_limits() to modify the field of view of SpecViz. You can provide it a scalar (which assumes the units of the loaded spectra), an Astropy Quantity, or 'auto' to automatically scale."
   ]
  },
  {
   "cell_type": "code",
   "execution_count": null,
   "metadata": {
    "scrolled": true
   },
   "outputs": [],
   "source": [
    "specviz.x_limits()\n",
    "specviz.x_limits(650*u.nm,750*u.nm)\n",
    "specviz.y_limits('auto', 110.0)"
   ]
  },
  {
   "cell_type": "markdown",
   "metadata": {},
   "source": [
    "### Autoscale Methods\n",
    "You can also quickly return to the default zoom using autoscale_x() and autoscale_y()"
   ]
  },
  {
   "cell_type": "code",
   "execution_count": null,
   "metadata": {},
   "outputs": [],
   "source": [
    "specviz.autoscale_x()\n",
    "specviz.autoscale_y()"
   ]
  },
  {
   "cell_type": "markdown",
   "metadata": {},
   "source": [
    "# Science Usecase"
   ]
  },
  {
   "cell_type": "markdown",
   "metadata": {},
   "source": [
    "## Retrieving your region from SpecViz"
   ]
  },
  {
   "cell_type": "code",
   "execution_count": null,
   "metadata": {},
   "outputs": [],
   "source": [
    "# THIS SHOULD BE UPDATED WHEN 159/161 are in!\n",
    "spec=spectra\n",
    "ss = specviz.app.data_collection.subset_groups[-1].subsets[0].subset_state\n",
    "line_region = specutils.SpectralRegion(ss.lo*spec.spectral_axis.unit, ss.hi*spec.spectral_axis.unit)\n",
    "line_region"
   ]
  },
  {
   "cell_type": "markdown",
   "metadata": {},
   "source": [
    "## Create a model "
   ]
  },
  {
   "cell_type": "code",
   "execution_count": null,
   "metadata": {},
   "outputs": [],
   "source": [
    "from astropy.modeling import models\n",
    "from specutils.fitting import fit_lines\n",
    "from  specutils import manipulation\n",
    "\n",
    "line_model = models.Gaussian1D(mean=(line_region.lower + line_region.upper)/2, \n",
    "                               stddev=3, \n",
    "                               amplitude=1000) + models.Const1D(200)\n",
    "\n",
    "#fit that model to the selected region\n",
    "\n",
    "# after a bug fix, this should be:\n",
    "# fit_lines(spec, line_model, window=line_region)\n",
    "\n",
    "extracted = manipulation.extract_region(spec, line_region)\n",
    "extracted.mask[:] = False\n",
    "fitted_line = fit_lines(extracted, line_model)\n",
    "#fitted_line = fit_lines(spec, line_model)\n",
    "fitted_line"
   ]
  },
  {
   "cell_type": "markdown",
   "metadata": {},
   "source": [
    "## Plot the results"
   ]
  },
  {
   "cell_type": "code",
   "execution_count": null,
   "metadata": {},
   "outputs": [],
   "source": [
    "from matplotlib import pyplot as plt\n",
    "plt.plot(spec.spectral_axis.value, spec.flux.value)\n",
    "plt.plot(spec.spectral_axis, fitted_line(spec.spectral_axis))\n",
    "\n",
    "plt.xlim(6500, 7200)\n",
    "plt.ylim(0, 110)\n",
    "\n",
    "# integral of just the gaussian part of the line *might* be what you want as \"line flux\"?\n",
    "\n",
    "from scipy.integrate import quad\n",
    "quad(fitted_line.unitless_model.left, 6500, 6700)[0]*fitted_line.return_units"
   ]
  }
 ],
 "metadata": {
  "kernelspec": {
   "display_name": "Python 3",
   "language": "python",
   "name": "python3"
  },
  "language_info": {
   "codemirror_mode": {
    "name": "ipython",
    "version": 3
   },
   "file_extension": ".py",
   "mimetype": "text/x-python",
   "name": "python",
   "nbconvert_exporter": "python",
   "pygments_lexer": "ipython3",
   "version": "3.8.5"
  }
 },
 "nbformat": 4,
 "nbformat_minor": 4
}
