{
 "cells": [
  {
   "cell_type": "code",
   "execution_count": 1,
   "metadata": {},
   "outputs": [
    {
     "name": "stderr",
     "output_type": "stream",
     "text": [
      "/Users/javerbukh/anaconda3/envs/jdaviz-dev/lib/python3.8/site-packages/glue/external/echo/__init__.py:3: UserWarning: glue.external.echo is deprecated, import from echo directly instead\n",
      "  warnings.warn('glue.external.echo is deprecated, import from echo directly instead')\n"
     ]
    }
   ],
   "source": [
    "from jdaviz.configs.mosviz.helper import MosViz\n",
    "from astropy.io import fits\n"
   ]
  },
  {
   "cell_type": "code",
   "execution_count": 2,
   "metadata": {
    "scrolled": false
   },
   "outputs": [
    {
     "data": {
      "application/vnd.jupyter.widget-view+json": {
       "model_id": "82e9cccbf0bc4b1693645f27f9d36d6a",
       "version_major": 2,
       "version_minor": 0
      },
      "text/plain": [
       "Application(components={'g-viewer-tab': '<template>\\n  <component :is=\"stack.container\">\\n    <g-viewer-tab\\n …"
      ]
     },
     "metadata": {},
     "output_type": "display_data"
    }
   ],
   "source": [
    "mosviz = MosViz()\n",
    "mosviz.app"
   ]
  },
  {
   "cell_type": "markdown",
   "metadata": {},
   "source": [
    "The MOSViz parsers accepts lists of `Spectrum1D`, `SpectralCube`, and `CCDData` for 1D, 2D, and image data respectively. Alternatively, and the method used below, users can provide lists of file paths and MOSViz will internally attempt to parse them as their respective data type."
   ]
  },
  {
   "cell_type": "code",
   "execution_count": null,
   "metadata": {
    "scrolled": false
   },
   "outputs": [],
   "source": [
    "import glob\n",
    "\n",
    "spectra_1d = []\n",
    "spectra_2d = []\n",
    "images = []\n",
    "\n",
    "from astropy.utils.data import download_file\n",
    "import tempfile\n",
    "import pathlib\n",
    "from zipfile import ZipFile\n",
    "\n",
    "fn = download_file('https://stsci.box.com/shared/static/ovyxi5eund92yoadvv01mynwt8t5n7jv.zip', cache=True)\n",
    "with ZipFile(fn, 'r') as sample_data_zip:\n",
    "    # Unzip sample data archive\n",
    "    sample_data_zip.extractall(tempfile.gettempdir())\n",
    "    \n",
    "level3_path = (pathlib.Path(tempfile.gettempdir()) / 'mosviz_nirspec_data_0.3' / 'level3')\n",
    "for file_path in glob.glob(str(level3_path / '*')):\n",
    "    if 'x1d' in file_path:\n",
    "        spectra_1d.append(file_path)\n",
    "    elif 's2d' in file_path:\n",
    "        spectra_2d.append(file_path)\n",
    "        \n",
    "        \n",
    "for i in range(len(spectra_1d)):\n",
    "    images.append(str(level3_path / 'mosviz_cutouts' / '227.fits'))\n",
    "\n",
    "mosviz.load_data(spectra_1d, spectra_2d, images)\n",
    "# Or alternatively: \n",
    "#mosviz.load_metadata(images)    \n",
    "#mosviz.load_1d_spectra(spectra_1d)\n",
    "#mosviz.load_2d_spectra(spectra_2d)\n",
    "#mosviz.load_images(images)"
   ]
  },
  {
   "cell_type": "code",
   "execution_count": null,
   "metadata": {},
   "outputs": [],
   "source": [
    "from astropy.io import fits\n",
    "for s1d in spectra_1d:\n",
    "    hdu = fits.open(s1d)\n",
    "    print(hdu[0].header)\n",
    "    print(\"############################################\")"
   ]
  },
  {
   "cell_type": "code",
   "execution_count": null,
   "metadata": {},
   "outputs": [],
   "source": [
    "niriss_x2d = \"/Users/javerbukh/Documents/data_for_mosviz/NIRISS_for_parser/smplmc_f090w_WFSSC_dit1_nis_cal.fits\"\n",
    "niriss_hdu = fits.open(niriss_x2d)\n",
    "niriss_hdu[1].header"
   ]
  },
  {
   "cell_type": "code",
   "execution_count": null,
   "metadata": {},
   "outputs": [],
   "source": [
    "nirspec_x1d = \"/Users/javerbukh/Documents/data_for_mosviz/mosviz_nirspec_data_0.3/level3/f170lp-g235m_mos_observation-6-c0e0_s00227_s2d.fits\"\n",
    "nirspec_hdu = fits.open(nirspec_x1d)\n",
    "nirspec_hdu.info()\n",
    "nirspec_hdu[1].header['S_REGION']"
   ]
  },
  {
   "cell_type": "code",
   "execution_count": 3,
   "metadata": {
    "scrolled": false
   },
   "outputs": [
    {
     "name": "stderr",
     "output_type": "stream",
     "text": [
      "INFO:astropy:first HDU with data is extension 1.\n",
      "INFO:astropy:first HDU with data is extension 1.\n"
     ]
    },
    {
     "name": "stdout",
     "output_type": "stream",
     "text": [
      "3 3 3 3 3 3\n",
      "f090w\n",
      "f200w\n",
      "f200w\n",
      "f200w\n",
      "f150w\n",
      "f150w\n",
      "['81.08640327621139', '81.08639070431896', '81.14092001240716', '81.08527057331497', '81.08639327114703', '81.08511014904697']\n",
      "['-70.08371623208342', '-70.08371347642887', '-70.07459382928765', '-70.06795069890335', '-70.08371391981589', '-70.06796293908334']\n",
      "INFO: first HDU with data is extension 1. [astropy.nddata.ccddata]\n",
      "INFO: first HDU with data is extension 1. [astropy.nddata.ccddata]\n"
     ]
    },
    {
     "name": "stderr",
     "output_type": "stream",
     "text": [
      "INFO:astropy:first HDU with data is extension 1.\n"
     ]
    },
    {
     "name": "stdout",
     "output_type": "stream",
     "text": [
      "INFO: first HDU with data is extension 1. [astropy.nddata.ccddata]\n",
      "['Image smplmc f090w', 'Image smplmc f200w', 'Image smplmc f200w', 'Image smplmc f200w', 'Image smplmc f150w', 'Image smplmc f150w']\n",
      "1\n"
     ]
    },
    {
     "ename": "TypeError",
     "evalue": "Could not find a class to translate objects of type ndarray to Data",
     "output_type": "error",
     "traceback": [
      "\u001b[0;31m---------------------------------------------------------------------------\u001b[0m",
      "\u001b[0;31mTypeError\u001b[0m                                 Traceback (most recent call last)",
      "\u001b[0;32m<ipython-input-3-a56fe4aa5a35>\u001b[0m in \u001b[0;36m<module>\u001b[0;34m\u001b[0m\n\u001b[1;32m      2\u001b[0m \u001b[0mniriss_image\u001b[0m \u001b[0;34m=\u001b[0m \u001b[0;34m\"/Users/javerbukh/Documents/data_for_mosviz/NIRISS_for_parser/smplmc_f090w_direct_dit1_nis_trapsfilled\"\u001b[0m\u001b[0;34m\u001b[0m\u001b[0;34m\u001b[0m\u001b[0m\n\u001b[1;32m      3\u001b[0m \u001b[0mniriss_dir\u001b[0m \u001b[0;34m=\u001b[0m \u001b[0;34m\"/Users/javerbukh/Documents/data_for_mosviz/NIRISS_for_parser/\"\u001b[0m\u001b[0;34m\u001b[0m\u001b[0;34m\u001b[0m\u001b[0m\n\u001b[0;32m----> 4\u001b[0;31m \u001b[0mmosviz\u001b[0m\u001b[0;34m.\u001b[0m\u001b[0mload_niriss_data\u001b[0m\u001b[0;34m(\u001b[0m\u001b[0mniriss_dir\u001b[0m\u001b[0;34m)\u001b[0m\u001b[0;34m\u001b[0m\u001b[0;34m\u001b[0m\u001b[0m\n\u001b[0m\u001b[1;32m      5\u001b[0m \u001b[0;31m#mosviz.load_niriss_data(niriss_x1d, niriss_x2d, niriss_image)\u001b[0m\u001b[0;34m\u001b[0m\u001b[0;34m\u001b[0m\u001b[0;34m\u001b[0m\u001b[0m\n",
      "\u001b[0;32m~/Documents/jdadf_notebooks/jdaviz/jdaviz/configs/mosviz/helper.py\u001b[0m in \u001b[0;36mload_niriss_data\u001b[0;34m(self, data_obj, data_labels)\u001b[0m\n\u001b[1;32m    182\u001b[0m \u001b[0;34m\u001b[0m\u001b[0m\n\u001b[1;32m    183\u001b[0m     \u001b[0;32mdef\u001b[0m \u001b[0mload_niriss_data\u001b[0m\u001b[0;34m(\u001b[0m\u001b[0mself\u001b[0m\u001b[0;34m,\u001b[0m \u001b[0mdata_obj\u001b[0m\u001b[0;34m,\u001b[0m \u001b[0mdata_labels\u001b[0m\u001b[0;34m=\u001b[0m\u001b[0;32mNone\u001b[0m\u001b[0;34m)\u001b[0m\u001b[0;34m:\u001b[0m\u001b[0;34m\u001b[0m\u001b[0;34m\u001b[0m\u001b[0m\n\u001b[0;32m--> 184\u001b[0;31m         \u001b[0msuper\u001b[0m\u001b[0;34m(\u001b[0m\u001b[0;34m)\u001b[0m\u001b[0;34m.\u001b[0m\u001b[0mload_data\u001b[0m\u001b[0;34m(\u001b[0m\u001b[0mdata_obj\u001b[0m\u001b[0;34m,\u001b[0m \u001b[0mparser_reference\u001b[0m\u001b[0;34m=\u001b[0m\u001b[0;34m\"mosviz-niriss-parser\"\u001b[0m\u001b[0;34m)\u001b[0m\u001b[0;34m\u001b[0m\u001b[0;34m\u001b[0m\u001b[0m\n\u001b[0m\u001b[1;32m    185\u001b[0m \u001b[0;34m\u001b[0m\u001b[0m\n\u001b[1;32m    186\u001b[0m     \u001b[0;32mdef\u001b[0m \u001b[0mload_images\u001b[0m\u001b[0;34m(\u001b[0m\u001b[0mself\u001b[0m\u001b[0;34m,\u001b[0m \u001b[0mdata_obj\u001b[0m\u001b[0;34m,\u001b[0m \u001b[0mdata_labels\u001b[0m\u001b[0;34m=\u001b[0m\u001b[0;32mNone\u001b[0m\u001b[0;34m)\u001b[0m\u001b[0;34m:\u001b[0m\u001b[0;34m\u001b[0m\u001b[0;34m\u001b[0m\u001b[0m\n",
      "\u001b[0;32m~/Documents/jdadf_notebooks/jdaviz/jdaviz/core/helpers.py\u001b[0m in \u001b[0;36mload_data\u001b[0;34m(self, data, parser_reference, **kwargs)\u001b[0m\n\u001b[1;32m     34\u001b[0m \u001b[0;34m\u001b[0m\u001b[0m\n\u001b[1;32m     35\u001b[0m     \u001b[0;32mdef\u001b[0m \u001b[0mload_data\u001b[0m\u001b[0;34m(\u001b[0m\u001b[0mself\u001b[0m\u001b[0;34m,\u001b[0m \u001b[0mdata\u001b[0m\u001b[0;34m,\u001b[0m \u001b[0mparser_reference\u001b[0m\u001b[0;34m=\u001b[0m\u001b[0;32mNone\u001b[0m\u001b[0;34m,\u001b[0m \u001b[0;34m**\u001b[0m\u001b[0mkwargs\u001b[0m\u001b[0;34m)\u001b[0m\u001b[0;34m:\u001b[0m\u001b[0;34m\u001b[0m\u001b[0;34m\u001b[0m\u001b[0m\n\u001b[0;32m---> 36\u001b[0;31m         \u001b[0mself\u001b[0m\u001b[0;34m.\u001b[0m\u001b[0mapp\u001b[0m\u001b[0;34m.\u001b[0m\u001b[0mload_data\u001b[0m\u001b[0;34m(\u001b[0m\u001b[0mdata\u001b[0m\u001b[0;34m,\u001b[0m \u001b[0mparser_reference\u001b[0m\u001b[0;34m=\u001b[0m\u001b[0mparser_reference\u001b[0m\u001b[0;34m,\u001b[0m \u001b[0;34m**\u001b[0m\u001b[0mkwargs\u001b[0m\u001b[0;34m)\u001b[0m\u001b[0;34m\u001b[0m\u001b[0;34m\u001b[0m\u001b[0m\n\u001b[0m",
      "\u001b[0;32m~/Documents/jdadf_notebooks/jdaviz/jdaviz/app.py\u001b[0m in \u001b[0;36mload_data\u001b[0;34m(self, file_obj, parser_reference, **kwargs)\u001b[0m\n\u001b[1;32m    295\u001b[0m             \u001b[0;31m# If the parser returns something other than known, assume it's\u001b[0m\u001b[0;34m\u001b[0m\u001b[0;34m\u001b[0m\u001b[0;34m\u001b[0m\u001b[0m\n\u001b[1;32m    296\u001b[0m             \u001b[0;31m#  a message we want to make the user aware of.\u001b[0m\u001b[0;34m\u001b[0m\u001b[0;34m\u001b[0m\u001b[0;34m\u001b[0m\u001b[0m\n\u001b[0;32m--> 297\u001b[0;31m             \u001b[0mmsg\u001b[0m \u001b[0;34m=\u001b[0m \u001b[0mparser\u001b[0m\u001b[0;34m(\u001b[0m\u001b[0mself\u001b[0m\u001b[0;34m,\u001b[0m \u001b[0mfile_obj\u001b[0m\u001b[0;34m,\u001b[0m \u001b[0;34m**\u001b[0m\u001b[0mkwargs\u001b[0m\u001b[0;34m)\u001b[0m\u001b[0;34m\u001b[0m\u001b[0;34m\u001b[0m\u001b[0m\n\u001b[0m\u001b[1;32m    298\u001b[0m \u001b[0;34m\u001b[0m\u001b[0m\n\u001b[1;32m    299\u001b[0m             \u001b[0;32mif\u001b[0m \u001b[0mmsg\u001b[0m \u001b[0;32mis\u001b[0m \u001b[0;32mnot\u001b[0m \u001b[0;32mNone\u001b[0m\u001b[0;34m:\u001b[0m\u001b[0;34m\u001b[0m\u001b[0;34m\u001b[0m\u001b[0m\n",
      "\u001b[0;32m~/Documents/jdadf_notebooks/jdaviz/jdaviz/configs/mosviz/plugins/parsers.py\u001b[0m in \u001b[0;36mmos_niriss_parser\u001b[0;34m(app, data_dir, obs_label)\u001b[0m\n\u001b[1;32m    394\u001b[0m                 \u001b[0mspec_labels\u001b[0m\u001b[0;34m.\u001b[0m\u001b[0mappend\u001b[0m\u001b[0;34m(\u001b[0m\u001b[0mlabel\u001b[0m\u001b[0;34m)\u001b[0m\u001b[0;34m\u001b[0m\u001b[0;34m\u001b[0m\u001b[0m\n\u001b[1;32m    395\u001b[0m                 \u001b[0mnew_data\u001b[0m \u001b[0;34m=\u001b[0m \u001b[0mnp\u001b[0m\u001b[0;34m.\u001b[0m\u001b[0mexpand_dims\u001b[0m\u001b[0;34m(\u001b[0m\u001b[0mspec2d\u001b[0m\u001b[0;34m,\u001b[0m \u001b[0maxis\u001b[0m\u001b[0;34m=\u001b[0m\u001b[0;36m1\u001b[0m\u001b[0;34m)\u001b[0m\u001b[0;34m\u001b[0m\u001b[0;34m\u001b[0m\u001b[0m\n\u001b[0;32m--> 396\u001b[0;31m                 \u001b[0mapp\u001b[0m\u001b[0;34m.\u001b[0m\u001b[0mdata_collection\u001b[0m\u001b[0;34m[\u001b[0m\u001b[0mlabel\u001b[0m\u001b[0;34m]\u001b[0m \u001b[0;34m=\u001b[0m \u001b[0mnew_data\u001b[0m\u001b[0;34m\u001b[0m\u001b[0;34m\u001b[0m\u001b[0m\n\u001b[0m\u001b[1;32m    397\u001b[0m             \u001b[0;31m#if orientation == \"C\":\u001b[0m\u001b[0;34m\u001b[0m\u001b[0;34m\u001b[0m\u001b[0;34m\u001b[0m\u001b[0m\n\u001b[1;32m    398\u001b[0m         \u001b[0;32mif\u001b[0m \u001b[0mf\u001b[0m \u001b[0;34m==\u001b[0m \u001b[0;34m\"2D Spectra C\"\u001b[0m\u001b[0;34m:\u001b[0m\u001b[0;34m\u001b[0m\u001b[0;34m\u001b[0m\u001b[0m\n",
      "\u001b[0;32m~/anaconda3/envs/jdaviz-dev/lib/python3.8/site-packages/glue/core/data_collection.py\u001b[0m in \u001b[0;36m__setitem__\u001b[0;34m(self, key, data)\u001b[0m\n\u001b[1;32m    380\u001b[0m         \u001b[0;32mif\u001b[0m \u001b[0;32mnot\u001b[0m \u001b[0misinstance\u001b[0m\u001b[0;34m(\u001b[0m\u001b[0mdata\u001b[0m\u001b[0;34m,\u001b[0m \u001b[0mData\u001b[0m\u001b[0;34m)\u001b[0m\u001b[0;34m:\u001b[0m\u001b[0;34m\u001b[0m\u001b[0;34m\u001b[0m\u001b[0m\n\u001b[1;32m    381\u001b[0m \u001b[0;34m\u001b[0m\u001b[0m\n\u001b[0;32m--> 382\u001b[0;31m             \u001b[0mhandler\u001b[0m\u001b[0;34m,\u001b[0m \u001b[0mpreferred\u001b[0m \u001b[0;34m=\u001b[0m \u001b[0mdata_translator\u001b[0m\u001b[0;34m.\u001b[0m\u001b[0mget_handler_for\u001b[0m\u001b[0;34m(\u001b[0m\u001b[0mdata\u001b[0m\u001b[0;34m)\u001b[0m\u001b[0;34m\u001b[0m\u001b[0;34m\u001b[0m\u001b[0m\n\u001b[0m\u001b[1;32m    383\u001b[0m \u001b[0;34m\u001b[0m\u001b[0m\n\u001b[1;32m    384\u001b[0m             \u001b[0mdata\u001b[0m \u001b[0;34m=\u001b[0m \u001b[0mhandler\u001b[0m\u001b[0;34m.\u001b[0m\u001b[0mto_data\u001b[0m\u001b[0;34m(\u001b[0m\u001b[0mdata\u001b[0m\u001b[0;34m)\u001b[0m\u001b[0;34m\u001b[0m\u001b[0;34m\u001b[0m\u001b[0m\n",
      "\u001b[0;32m~/anaconda3/envs/jdaviz-dev/lib/python3.8/site-packages/glue/config.py\u001b[0m in \u001b[0;36mget_handler_for\u001b[0;34m(self, data_or_class)\u001b[0m\n\u001b[1;32m    564\u001b[0m                                 \"type Data to {0}\".format(data_or_class.__name__))\n\u001b[1;32m    565\u001b[0m             \u001b[0;32melse\u001b[0m\u001b[0;34m:\u001b[0m\u001b[0;34m\u001b[0m\u001b[0;34m\u001b[0m\u001b[0m\n\u001b[0;32m--> 566\u001b[0;31m                 raise TypeError(\"Could not find a class to translate objects of \"\n\u001b[0m\u001b[1;32m    567\u001b[0m                                 \"type {0} to Data\".format(data_or_class.__class__.__name__))\n\u001b[1;32m    568\u001b[0m         \u001b[0;32mreturn\u001b[0m \u001b[0mhandler\u001b[0m\u001b[0;34m,\u001b[0m \u001b[0mpreferred\u001b[0m\u001b[0;34m\u001b[0m\u001b[0;34m\u001b[0m\u001b[0m\n",
      "\u001b[0;31mTypeError\u001b[0m: Could not find a class to translate objects of type ndarray to Data"
     ]
    }
   ],
   "source": [
    "niriss_x1d = \"/Users/javerbukh/Documents/data_for_mosviz/NIRISS_for_parser/smplmc_f090w_WFSSC_dit1_nis_x1d.fits\"\n",
    "niriss_image = \"/Users/javerbukh/Documents/data_for_mosviz/NIRISS_for_parser/smplmc_f090w_direct_dit1_nis_trapsfilled\"\n",
    "niriss_dir = \"/Users/javerbukh/Documents/data_for_mosviz/NIRISS_for_parser/\"\n",
    "mosviz.load_niriss_data(niriss_dir)\n",
    "#mosviz.load_niriss_data(niriss_x1d, niriss_x2d, niriss_image)\n"
   ]
  },
  {
   "cell_type": "code",
   "execution_count": null,
   "metadata": {},
   "outputs": [],
   "source": [
    "mosviz.app.get_viewer('table-viewer')._selected_data"
   ]
  },
  {
   "cell_type": "code",
   "execution_count": null,
   "metadata": {},
   "outputs": [],
   "source": []
  }
 ],
 "metadata": {
  "kernelspec": {
   "display_name": "Python 3",
   "language": "python",
   "name": "python3"
  },
  "language_info": {
   "codemirror_mode": {
    "name": "ipython",
    "version": 3
   },
   "file_extension": ".py",
   "mimetype": "text/x-python",
   "name": "python",
   "nbconvert_exporter": "python",
   "pygments_lexer": "ipython3",
   "version": "3.8.5"
  }
 },
 "nbformat": 4,
 "nbformat_minor": 4
}
