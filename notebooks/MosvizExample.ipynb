{
 "cells": [
  {
   "cell_type": "code",
   "execution_count": 1,
   "metadata": {},
   "outputs": [
    {
     "name": "stderr",
     "output_type": "stream",
     "text": [
      "/Users/javerbukh/anaconda3/envs/jdaviz-dev/lib/python3.8/site-packages/glue/external/echo/__init__.py:3: UserWarning: glue.external.echo is deprecated, import from echo directly instead\n",
      "  warnings.warn('glue.external.echo is deprecated, import from echo directly instead')\n"
     ]
    }
   ],
   "source": [
    "from jdaviz.configs.mosviz.helper import MosViz\n",
    "from astropy.io import fits\n"
   ]
  },
  {
   "cell_type": "code",
   "execution_count": 2,
   "metadata": {
    "scrolled": false
   },
   "outputs": [
    {
     "data": {
      "application/vnd.jupyter.widget-view+json": {
       "model_id": "15097ad565734796a841928e18c5f06d",
       "version_major": 2,
       "version_minor": 0
      },
      "text/plain": [
       "Application(components={'g-viewer-tab': '<template>\\n  <component :is=\"stack.container\">\\n    <g-viewer-tab\\n …"
      ]
     },
     "metadata": {},
     "output_type": "display_data"
    }
   ],
   "source": [
    "mosviz = MosViz()\n",
    "mosviz.app"
   ]
  },
  {
   "cell_type": "markdown",
   "metadata": {},
   "source": [
    "The MOSViz parsers accepts lists of `Spectrum1D`, `SpectralCube`, and `CCDData` for 1D, 2D, and image data respectively. Alternatively, and the method used below, users can provide lists of file paths and MOSViz will internally attempt to parse them as their respective data type."
   ]
  },
  {
   "cell_type": "code",
   "execution_count": null,
   "metadata": {
    "scrolled": false
   },
   "outputs": [],
   "source": [
    "import glob\n",
    "\n",
    "spectra_1d = []\n",
    "spectra_2d = []\n",
    "images = []\n",
    "\n",
    "from astropy.utils.data import download_file\n",
    "import tempfile\n",
    "import pathlib\n",
    "from zipfile import ZipFile\n",
    "\n",
    "fn = download_file('https://stsci.box.com/shared/static/ovyxi5eund92yoadvv01mynwt8t5n7jv.zip', cache=True)\n",
    "with ZipFile(fn, 'r') as sample_data_zip:\n",
    "    # Unzip sample data archive\n",
    "    sample_data_zip.extractall(tempfile.gettempdir())\n",
    "    \n",
    "level3_path = (pathlib.Path(tempfile.gettempdir()) / 'mosviz_nirspec_data_0.3' / 'level3')\n",
    "for file_path in glob.glob(str(level3_path / '*')):\n",
    "    if 'x1d' in file_path:\n",
    "        spectra_1d.append(file_path)\n",
    "    elif 's2d' in file_path:\n",
    "        spectra_2d.append(file_path)\n",
    "        \n",
    "        \n",
    "for i in range(len(spectra_1d)):\n",
    "    images.append(str(level3_path / 'mosviz_cutouts' / '227.fits'))\n",
    "\n",
    "mosviz.load_data(spectra_1d, spectra_2d, images)\n",
    "# Or alternatively: \n",
    "#mosviz.load_metadata(images)    \n",
    "#mosviz.load_1d_spectra(spectra_1d)\n",
    "#mosviz.load_2d_spectra(spectra_2d)\n",
    "#mosviz.load_images(images)"
   ]
  },
  {
   "cell_type": "code",
   "execution_count": null,
   "metadata": {},
   "outputs": [],
   "source": [
    "from astropy.io import fits\n",
    "for s1d in spectra_1d:\n",
    "    hdu = fits.open(s1d)\n",
    "    print(hdu[0].header)\n",
    "    print(\"############################################\")"
   ]
  },
  {
   "cell_type": "code",
   "execution_count": 8,
   "metadata": {},
   "outputs": [
    {
     "name": "stdout",
     "output_type": "stream",
     "text": [
      "Filename: /Users/javerbukh/Documents/data_for_mosviz/NIRISS_for_parser/smplmc_f090w_WFSSC_dit1_nis_cal.fits\n",
      "No.    Name      Ver    Type      Cards   Dimensions   Format\n",
      "  0  PRIMARY       1 PrimaryHDU     274   ()      \n",
      "  1  SCI           1 ImageHDU        30   (14, 37)   float32   \n",
      "  2  DQ            1 ImageHDU        11   (14, 37)   int32 (rescales to uint32)   \n",
      "  3  ERR           1 ImageHDU        10   (14, 37)   float32   \n",
      "  4  WAVELENGTH    1 ImageHDU         9   (14, 37)   float32   \n",
      "  5  VAR_POISSON    1 ImageHDU         9   (14, 37)   float32   \n",
      "  6  VAR_RNOISE    1 ImageHDU         9   (14, 37)   float32   \n",
      "  7  VAR_FLAT      1 ImageHDU         9   (14, 37)   float32   \n",
      "  8  SCI           2 ImageHDU        30   (63, 37)   float32   \n",
      "  9  DQ            2 ImageHDU        11   (63, 37)   int32 (rescales to uint32)   \n",
      " 10  ERR           2 ImageHDU        10   (63, 37)   float32   \n",
      " 11  WAVELENGTH    2 ImageHDU         9   (63, 37)   float32   \n",
      " 12  VAR_POISSON    2 ImageHDU         9   (63, 37)   float32   \n",
      " 13  VAR_RNOISE    2 ImageHDU         9   (63, 37)   float32   \n",
      " 14  VAR_FLAT      2 ImageHDU         9   (63, 37)   float32   \n",
      " 15  ASDF          1 BinTableHDU     11   1R x 1C   [84569B]   \n"
     ]
    },
    {
     "data": {
      "text/plain": [
       "XTENSION= 'IMAGE   '           / Image extension                                \n",
       "BITPIX  =                  -32 / array data type                                \n",
       "NAXIS   =                    2 / number of array dimensions                     \n",
       "NAXIS1  =                   14                                                  \n",
       "NAXIS2  =                   37                                                  \n",
       "PCOUNT  =                    0 / number of parameters                           \n",
       "GCOUNT  =                    1 / number of groups                               \n",
       "EXTNAME = 'SCI     '           / extension name                                 \n",
       "EXTVER  =                    1 / extension value                                \n",
       "SLTNAME = '1       '           / Name of the slit                               \n",
       "SLTSTRT1=                    1 / Starting pixel in x direction                  \n",
       "SLTSIZE1=                   14 / Number of pixels in x direction                \n",
       "SLTSTRT2=                    1 / Starting pixel in y direction                  \n",
       "SLTSIZE2=                   37 / Number of pixels in y direction                \n",
       "SLITID  =                    0 / Slitlet ID                                     \n",
       "SOURCEID=                    1 / Source ID                                      \n",
       "SRCXPOS =    1022.974176451268 / Source position in slit (x-axis)               \n",
       "SRCYPOS =    1023.820029507351 / Source position in slit (y-axis)               \n",
       "SHUTSTA = '' / All (open and closed) shutters in a slit                         \n",
       "BUNIT   = 'MJy/sr  '           / physical units of the array values             \n",
       "                                                                                \n",
       "        Photometry information                                                  \n",
       "                                                                                \n",
       "PHOTMJSR=    46.60139083862305 / Flux density (MJy/steradian) producing 1 cps   \n",
       "PHOTUJA2=    1095.339153991768 / Flux density (uJy/arcsec2) producing 1 cps     \n",
       "                                                                                \n",
       "        WCS parameters                                                          \n",
       "                                                                                \n",
       "DISPAXIS=                    1 / Dispersion direction                           \n",
       "SPORDER =                    1 / Spectral order number                          "
      ]
     },
     "execution_count": 8,
     "metadata": {},
     "output_type": "execute_result"
    }
   ],
   "source": [
    "niriss_x2d = \"/Users/javerbukh/Documents/data_for_mosviz/NIRISS_for_parser/smplmc_f090w_WFSSC_dit1_nis_cal.fits\"\n",
    "niriss_hdu = fits.open(niriss_x2d)\n",
    "niriss_hdu.info()\n",
    "niriss_hdu[1].header"
   ]
  },
  {
   "cell_type": "code",
   "execution_count": null,
   "metadata": {},
   "outputs": [],
   "source": [
    "niriss_direct = \"/Users/javerbukh/Documents/data_for_mosviz/NIRISS_for_parser/smplmc_f090w_direct_dit1_nis_cal.fits\"\n",
    "niriss_hdu = fits.open(niriss_direct)\n",
    "niriss_hdu.info()\n",
    "niriss_hdu[1].header"
   ]
  },
  {
   "cell_type": "code",
   "execution_count": 5,
   "metadata": {},
   "outputs": [
    {
     "name": "stdout",
     "output_type": "stream",
     "text": [
      "Filename: /Users/javerbukh/Documents/data_for_mosviz/mosviz_nirspec_data_0.3/level3/f170lp-g235m_mos_observation-6-c0e0_s00227_s2d.fits\n",
      "No.    Name      Ver    Type      Cards   Dimensions   Format\n",
      "  0  PRIMARY       1 PrimaryHDU     308   ()      \n",
      "  1  SCI           1 ImageHDU        73   (1152, 15)   float32   \n",
      "  2  WHT           1 ImageHDU         9   (1152, 15)   float32   \n",
      "  3  CON           1 ImageHDU         9   (1152, 15)   int32   \n",
      "  4  HDRTAB        1 BinTableHDU    778   1R x 384C   [23A, 5A, D, 60A, 9A, D, D, 21A, 8A, 14A, 4A, D, D, D, D, D, 9A, 60A, 3A, 7A, 3A, 3A, 3A, K, 10A, 12A, D, D, D, 8A, 1A, 5A, 3A, 3A, 2A, 1A, 2A, 5A, D, 3A, 5A, D, 7A, 19A, D, K, L, L, D, D, 7A, 3A, 5A, D, D, D, D, D, D, D, D, D, D, 7A, 4A, D, D, 6A, D, D, 5A, D, 4A, D, D, D, D, 10A, 30A, K, D, 3A, D, D, K, D, D, D, D, D, D, D, K, D, 11A, D, D, D, D, D, D, 8A, D, D, D, K, D, D, K, K, D, D, D, K, D, D, K, K, D, D, D, D, D, K, D, L, L, D, D, D, D, D, D, D, D, D, 4A, K, K, K, K, K, K, D, D, D, D, D, K, D, D, D, D, D, D, D, D, D, D, D, D, D, D, D, D, D, D, D, D, D, D, D, D, D, 5A, D, D, D, D, D, D, D, D, D, D, D, D, D, D, D, D, D, D, D, D, D, D, D, D, D, D, D, D, D, D, D, 3A, 3A, 3A, D, D, D, D, D, D, D, D, D, D, D, D, D, D, D, D, D, D, D, D, D, D, D, D, 7A, 14A, 34A, D, 39A, 36A, 40A, D, 87A, 39A, 3A, D, D, 3A, 3A, 35A, 35A, 35A, 34A, 33A, D, 34A, 3A, 3A, 3A, D, D, 39A, 34A, 33A, 33A, 38A, D, 36A, D, 39A, D, 3A, D, D, D, D, 40A, 3A, D, 92A, D, D, D, D, D, 45A, D, D, D, D, 8A, D, D, 8A, D, D, 8A, 8A, D, D, D, 8A, D, 8A, D, D, D, D, D, D, 8A, D, D, 8A, D, D, 8A, 7A, 8A, D, 8A, 8A, 8A, D, D, D, 8A, D, D, 8A, D, D, 8A, D, D, D, D, D, D, 4A, D, D, D, D, 4A, D, D, D, K, D, D, D, D, D, D, 8A, 8A, 4A, 3A, 3A, 6A, D, D, D, D, D, D, D, D, D, D, D, D, 109A, D, D, K, K, D, D, K, D, D, D, D]   \n",
      "  5  ASDF          1 BinTableHDU     11   1R x 1C   [62160B]   \n"
     ]
    },
    {
     "data": {
      "text/plain": [
       "XTENSION= 'IMAGE   '           / Image extension                                \n",
       "BITPIX  =                  -32 / array data type                                \n",
       "NAXIS   =                    2 / number of array dimensions                     \n",
       "NAXIS1  =                 1152                                                  \n",
       "NAXIS2  =                   15                                                  \n",
       "PCOUNT  =                    0 / number of parameters                           \n",
       "GCOUNT  =                    1 / number of groups                               \n",
       "EXTNAME = 'SCI     '           / extension name                                 \n",
       "SRCTYPE = 'POINT   '           / Source type used for calibration               \n",
       "PA_APER =                  0.0 / [deg] Position angle of aperture used          \n",
       "BUNIT   = 'DN/s    '           / physical units of the array values             \n",
       "                                                                                \n",
       "        Photometry information                                                  \n",
       "                                                                                \n",
       "PHOTMJSR=                  1.0 / Flux density (MJy/steradian) producing 1 cps   \n",
       "PHOTUJA2=    23.50443053909789 / Flux density (uJy/arcsec2) producing 1 cps     \n",
       "PIXAR_SR= 2.35044305390978E-11 / Nominal pixel area in steradians               \n",
       "PIXAR_A2=                  1.0 / Nominal pixel area in arcsec^2                 \n",
       "                                                                                \n",
       "        Information about the coordinates in the file                           \n",
       "                                                                                \n",
       "RADESYS = 'ICRS    '           / Name of the coordinate reference frame         \n",
       "                                                                                \n",
       "        WCS parameters                                                          \n",
       "                                                                                \n",
       "WCSAXES =                    3 / number of World Coordinate System axes         \n",
       "CRPIX1  =               1024.5 / axis 1 coordinate of the reference pixel       \n",
       "CRPIX2  =               1024.5 / axis 2 coordinate of the reference pixel       \n",
       "CRVAL1  =                  5.0 / first axis value at the reference pixel        \n",
       "CRVAL2  =                  5.0 / second axis value at the reference pixel       \n",
       "CTYPE1  = 'RA---TAN'           / first axis coordinate type                     \n",
       "CTYPE2  = 'DEC--TAN'           / second axis coordinate type                    \n",
       "CTYPE3  = 'WAVE    '           / third axis coordinate type                     \n",
       "CUNIT1  = 'deg     '           / first axis units                               \n",
       "CUNIT2  = 'deg     '           / second axis units                              \n",
       "CUNIT3  = 'micron  '           / third axis units                               \n",
       "CDELT1  = 2.86854111111111E-05 / first axis increment per pixel                 \n",
       "CDELT2  = 2.92567277777777E-05 / second axis increment per pixel                \n",
       "PC1_1   =                 -1.0 / linear transformation matrix element           \n",
       "PC1_2   =                  0.0 / linear transformation matrix element           \n",
       "PC2_1   =                  0.0 / linear transformation matrix element           \n",
       "PC2_2   =                  1.0 / linear transformation matrix element           \n",
       "PC3_1   =                  1.0 / linear transformation matrix element           \n",
       "PC3_2   =                  0.0 / linear transformation matrix element           \n",
       "S_REGION= 'POLYGON ICRS  5.029236065 4.992154276 5.029513148 4.992154276 &'     \n",
       "CONTINUE  '5.029513148 4.992468585 5.029236065 4.992468585&'                    \n",
       "CONTINUE  '' / spatial extent of the observation                                \n",
       "WAVSTART=             1.66E-06 / lower bound of the default wavelength range    \n",
       "WAVEND  =             3.17E-06 / upper bound of the default wavelength range    \n",
       "DISPAXIS=                    1 / Dispersion direction                           \n",
       "SPORDER =                   -1 / Spectral order number                          \n",
       "V2_REF  =           294.054813 / [arcsec] Telescope v2 coordinate of the referen\n",
       "V3_REF  =          -502.901911 / [arcsec] Telescope v3 coordinate of the referen\n",
       "VPARITY =                   -1 / Relative sense of rotation between Ideal xy and\n",
       "V3I_YANG=            139.15545 / [deg] Angle from V3 axis to Ideal y axis       \n",
       "RA_REF  =                  5.0 / [deg] Right ascension of the reference point   \n",
       "DEC_REF =                  5.0 / [deg] Declination of the reference point       \n",
       "ROLL_REF=                  0.0 / [deg] V3 roll angle at the ref point (N over E)\n",
       "SPECSYS = 'BARYCENT'           / Spectral reference frame                       \n",
       "EXTVER  =                    1 / extension value                                \n",
       "SLTNAME = '1       '           / Name of the slit                               \n",
       "SLTSTRT1=                  897 / Starting pixel in x direction                  \n",
       "SLTSIZE1=                 1152 / Number of pixels in x direction                \n",
       "SLTSTRT2=                 1846 / Starting pixel in y direction                  \n",
       "SLTSIZE2=                   27 / Number of pixels in y direction                \n",
       "SLITID  =                    1 / Slitlet ID                                     \n",
       "SOURCEID=                  227 / Source ID                                      \n",
       "SRCNAME = '95065_227'          / Source name                                    \n",
       "SRCALIAS= 'foo0    '           / Source alias                                   \n",
       "STLARITY=                  1.0 / Source stellarity                              \n",
       "SRCXPOS =  -0.9634999930858612 / Source position in slit (x-axis)               \n",
       "SRCYPOS =  -0.1463000178337097 / Source position in slit (y-axis)               \n",
       "SHUTSTA = 'x11     '           / All (open and closed) shutters in a slit       \n",
       "SRCRA   =    5.029374606669537 / Right Ascension of the source                  \n",
       "SRCDEC  =    4.992311430328196 / Declination of the source                      "
      ]
     },
     "execution_count": 5,
     "metadata": {},
     "output_type": "execute_result"
    }
   ],
   "source": [
    "nirspec_x1d = \"/Users/javerbukh/Documents/data_for_mosviz/mosviz_nirspec_data_0.3/level3/f170lp-g235m_mos_observation-6-c0e0_s00227_s2d.fits\"\n",
    "nirspec_hdu = fits.open(nirspec_x1d)\n",
    "nirspec_hdu.info()\n",
    "nirspec_hdu[1].header"
   ]
  },
  {
   "cell_type": "code",
   "execution_count": 3,
   "metadata": {
    "scrolled": false
   },
   "outputs": [
    {
     "name": "stderr",
     "output_type": "stream",
     "text": [
      "INFO:astropy:first HDU with data is extension 1.\n",
      "INFO:astropy:first HDU with data is extension 1.\n"
     ]
    },
    {
     "name": "stdout",
     "output_type": "stream",
     "text": [
      "3 3 3 3 3 3\n",
      "f090w\n",
      "f200w\n",
      "f200w\n",
      "f200w\n",
      "f150w\n",
      "f150w\n",
      "['81.08640327621139', '81.08639070431896', '81.08639327114703']\n",
      "['-70.08371623208342', '-70.08371347642887', '-70.08371391981589']\n",
      "INFO: first HDU with data is extension 1. [astropy.nddata.ccddata]\n",
      "INFO: first HDU with data is extension 1. [astropy.nddata.ccddata]\n"
     ]
    },
    {
     "name": "stderr",
     "output_type": "stream",
     "text": [
      "INFO:astropy:first HDU with data is extension 1.\n"
     ]
    },
    {
     "name": "stdout",
     "output_type": "stream",
     "text": [
      "INFO: first HDU with data is extension 1. [astropy.nddata.ccddata]\n",
      "['Image smplmc f090w', 'Image smplmc f200w', 'Image smplmc f150w']\n",
      "f090w f200w\n",
      "f090w f090w\n",
      "1\n",
      "f090w f150w\n",
      "f200w f200w\n",
      "1\n",
      "f200w f090w\n",
      "f200w f150w\n",
      "f150w f200w\n",
      "f150w f090w\n",
      "f150w f150w\n",
      "1\n",
      "['Source f090w spec2d C', 'Source f200w spec2d C', 'Source f150w spec2d C']\n",
      "f090w f150w\n",
      "f090w f200w\n",
      "f090w f090w\n",
      "1\n",
      "f200w f150w\n",
      "f200w f200w\n",
      "1\n",
      "f200w f090w\n",
      "f150w f150w\n",
      "1\n",
      "f150w f200w\n",
      "f150w f090w\n",
      "['Source 1 spec1d C', 'Source 1 spec1d C', 'Source 1 spec1d C']\n"
     ]
    }
   ],
   "source": [
    "niriss_x1d = \"/Users/javerbukh/Documents/data_for_mosviz/NIRISS_for_parser/smplmc_f090w_WFSSC_dit1_nis_x1d.fits\"\n",
    "niriss_image = \"/Users/javerbukh/Documents/data_for_mosviz/NIRISS_for_parser/smplmc_f090w_direct_dit1_nis_trapsfilled\"\n",
    "niriss_dir = \"/Users/javerbukh/Documents/data_for_mosviz/NIRISS_for_parser/\"\n",
    "mosviz.load_niriss_data(niriss_dir)\n",
    "#mosviz.load_niriss_data(niriss_x1d, niriss_x2d, niriss_image)\n"
   ]
  },
  {
   "cell_type": "code",
   "execution_count": null,
   "metadata": {},
   "outputs": [],
   "source": [
    "mosviz.app.get_viewer('table-viewer')._selected_data"
   ]
  },
  {
   "cell_type": "code",
   "execution_count": null,
   "metadata": {},
   "outputs": [],
   "source": []
  }
 ],
 "metadata": {
  "kernelspec": {
   "display_name": "Python 3",
   "language": "python",
   "name": "python3"
  },
  "language_info": {
   "codemirror_mode": {
    "name": "ipython",
    "version": 3
   },
   "file_extension": ".py",
   "mimetype": "text/x-python",
   "name": "python",
   "nbconvert_exporter": "python",
   "pygments_lexer": "ipython3",
   "version": "3.8.5"
  }
 },
 "nbformat": 4,
 "nbformat_minor": 4
}
