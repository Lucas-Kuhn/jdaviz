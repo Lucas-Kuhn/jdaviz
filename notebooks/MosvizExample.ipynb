{
 "cells": [
  {
   "cell_type": "code",
   "execution_count": 1,
   "metadata": {},
   "outputs": [
    {
     "name": "stderr",
     "output_type": "stream",
     "text": [
      "/Users/javerbukh/anaconda3/envs/jdaviz-dev/lib/python3.8/site-packages/glue/external/echo/__init__.py:3: UserWarning: glue.external.echo is deprecated, import from echo directly instead\n",
      "  warnings.warn('glue.external.echo is deprecated, import from echo directly instead')\n"
     ]
    }
   ],
   "source": [
    "from jdaviz.configs.mosviz.helper import MosViz\n",
    "from astropy.io import fits\n"
   ]
  },
  {
   "cell_type": "code",
   "execution_count": 2,
   "metadata": {
    "scrolled": false
   },
   "outputs": [
    {
     "data": {
      "application/vnd.jupyter.widget-view+json": {
       "model_id": "febef87f7b234a5ebada0b61da576c97",
       "version_major": 2,
       "version_minor": 0
      },
      "text/plain": [
       "Application(components={'g-viewer-tab': '<template>\\n  <component :is=\"stack.container\">\\n    <g-viewer-tab\\n …"
      ]
     },
     "metadata": {},
     "output_type": "display_data"
    }
   ],
   "source": [
    "mosviz = MosViz()\n",
    "mosviz.app"
   ]
  },
  {
   "cell_type": "markdown",
   "metadata": {},
   "source": [
    "The MOSViz parsers accepts lists of `Spectrum1D`, `SpectralCube`, and `CCDData` for 1D, 2D, and image data respectively. Alternatively, and the method used below, users can provide lists of file paths and MOSViz will internally attempt to parse them as their respective data type."
   ]
  },
  {
   "cell_type": "code",
   "execution_count": null,
   "metadata": {
    "scrolled": false
   },
   "outputs": [],
   "source": [
    "import glob\n",
    "\n",
    "spectra_1d = []\n",
    "spectra_2d = []\n",
    "images = []\n",
    "\n",
    "from astropy.utils.data import download_file\n",
    "import tempfile\n",
    "import pathlib\n",
    "from zipfile import ZipFile\n",
    "\n",
    "fn = download_file('https://stsci.box.com/shared/static/ovyxi5eund92yoadvv01mynwt8t5n7jv.zip', cache=True)\n",
    "with ZipFile(fn, 'r') as sample_data_zip:\n",
    "    # Unzip sample data archive\n",
    "    sample_data_zip.extractall(tempfile.gettempdir())\n",
    "    \n",
    "level3_path = (pathlib.Path(tempfile.gettempdir()) / 'mosviz_nirspec_data_0.3' / 'level3')\n",
    "for file_path in glob.glob(str(level3_path / '*')):\n",
    "    if 'x1d' in file_path:\n",
    "        spectra_1d.append(file_path)\n",
    "    elif 's2d' in file_path:\n",
    "        spectra_2d.append(file_path)\n",
    "        \n",
    "        \n",
    "for i in range(len(spectra_1d)):\n",
    "    images.append(str(level3_path / 'mosviz_cutouts' / '227.fits'))\n",
    "\n",
    "mosviz.load_data(spectra_1d, spectra_2d, images)\n",
    "# Or alternatively: \n",
    "#mosviz.load_metadata(images)    \n",
    "#mosviz.load_1d_spectra(spectra_1d)\n",
    "#mosviz.load_2d_spectra(spectra_2d)\n",
    "#mosviz.load_images(images)"
   ]
  },
  {
   "cell_type": "code",
   "execution_count": null,
   "metadata": {},
   "outputs": [],
   "source": [
    "from astropy.io import fits\n",
    "for s1d in spectra_1d:\n",
    "    hdu = fits.open(s1d)\n",
    "    print(hdu[0].header)\n",
    "    print(\"############################################\")"
   ]
  },
  {
   "cell_type": "code",
   "execution_count": null,
   "metadata": {},
   "outputs": [],
   "source": [
    "niriss_x2d = \"/Users/javerbukh/Documents/data_for_mosviz/NIRISS_for_parser/smplmc_f090w_WFSSC_dit1_nis_cal.fits\"\n",
    "niriss_hdu = fits.open(niriss_x2d)\n",
    "niriss_hdu.info()\n",
    "niriss_hdu[0].header"
   ]
  },
  {
   "cell_type": "code",
   "execution_count": null,
   "metadata": {},
   "outputs": [],
   "source": [
    "niriss_direct = \"/Users/javerbukh/Documents/data_for_mosviz/NIRISS_for_parser/smplmc_f090w_direct_dit1_nis_cal.fits\"\n",
    "niriss_hdu = fits.open(niriss_direct)\n",
    "niriss_hdu.info()\n",
    "niriss_hdu[1].header"
   ]
  },
  {
   "cell_type": "code",
   "execution_count": null,
   "metadata": {},
   "outputs": [],
   "source": [
    "nirspec_x1d = \"/Users/javerbukh/Documents/data_for_mosviz/mosviz_nirspec_data_0.3/level3/f170lp-g235m_mos_observation-6-c0e0_s00227_s2d.fits\"\n",
    "nirspec_hdu = fits.open(nirspec_x1d)\n",
    "nirspec_hdu.info()\n",
    "nirspec_hdu[1].header"
   ]
  },
  {
   "cell_type": "code",
   "execution_count": null,
   "metadata": {
    "scrolled": false
   },
   "outputs": [
    {
     "name": "stderr",
     "output_type": "stream",
     "text": [
      "INFO:astropy:first HDU with data is extension 1.\n",
      "INFO:astropy:first HDU with data is extension 1.\n",
      "INFO:astropy:first HDU with data is extension 1.\n"
     ]
    },
    {
     "name": "stdout",
     "output_type": "stream",
     "text": [
      "INFO: first HDU with data is extension 1. [astropy.nddata.ccddata]\n",
      "INFO: first HDU with data is extension 1. [astropy.nddata.ccddata]\n",
      "INFO: first HDU with data is extension 1. [astropy.nddata.ccddata]\n"
     ]
    }
   ],
   "source": [
    "niriss_x1d = \"/Users/javerbukh/Documents/data_for_mosviz/NIRISS_for_parser/smplmc_f090w_WFSSC_dit1_nis_x1d.fits\"\n",
    "niriss_image = \"/Users/javerbukh/Documents/data_for_mosviz/NIRISS_for_parser/smplmc_f090w_direct_dit1_nis_trapsfilled\"\n",
    "niriss_dir = \"/Users/javerbukh/Documents/data_for_mosviz/NIRISS_for_parser/\"\n",
    "mosviz.load_niriss_data(niriss_dir)\n",
    "#mosviz.load_niriss_data(niriss_x1d, niriss_x2d, niriss_image)\n"
   ]
  },
  {
   "cell_type": "code",
   "execution_count": null,
   "metadata": {},
   "outputs": [],
   "source": [
    "mosviz.app.get_viewer('table-viewer')._selected_data"
   ]
  },
  {
   "cell_type": "code",
   "execution_count": null,
   "metadata": {},
   "outputs": [],
   "source": [
    "niriss_x1d"
   ]
  }
 ],
 "metadata": {
  "kernelspec": {
   "display_name": "Python 3",
   "language": "python",
   "name": "python3"
  },
  "language_info": {
   "codemirror_mode": {
    "name": "ipython",
    "version": 3
   },
   "file_extension": ".py",
   "mimetype": "text/x-python",
   "name": "python",
   "nbconvert_exporter": "python",
   "pygments_lexer": "ipython3",
   "version": "3.8.5"
  }
 },
 "nbformat": 4,
 "nbformat_minor": 4
}
