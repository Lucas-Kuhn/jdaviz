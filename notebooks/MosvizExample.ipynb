{
 "cells": [
  {
   "cell_type": "markdown",
   "metadata": {},
   "source": [
    "# MOSViz example notebook"
   ]
  },
  {
   "cell_type": "markdown",
   "metadata": {},
   "source": [
    "Note: We silence most warnings for now. For debugging, you can comment out the next cell and then restart the kernel to re-enable warnings."
   ]
  },
  {
   "cell_type": "code",
   "execution_count": null,
   "metadata": {},
   "outputs": [],
   "source": [
    "import warnings\n",
    "warnings.simplefilter('ignore')"
   ]
  },
  {
   "cell_type": "markdown",
   "metadata": {},
   "source": [
    "This starts MOSViz."
   ]
  },
  {
   "cell_type": "code",
   "execution_count": null,
   "metadata": {
    "scrolled": false
   },
   "outputs": [],
   "source": [
    "from jdaviz.configs.mosviz.helper import MosViz as Mosviz\n",
    "\n",
    "mosviz = Mosviz()\n",
    "mosviz.app"
   ]
  },
  {
   "cell_type": "markdown",
   "metadata": {},
   "source": [
    "But before we can use it, we need some data.\n",
    "\n",
    "The MOSViz parsers accept lists of `Spectrum1D`, `SpectralCube`, and `CCDData` for 1D, 2D, and image data, respectively. Alternatively, users can also provide lists of file paths and MOSViz will internally attempt to parse them as their respective data types."
   ]
  },
  {
   "cell_type": "code",
   "execution_count": null,
   "metadata": {},
   "outputs": [],
   "source": [
    "# Run this cell if your desired data path is a temporary directory.\n",
    "\n",
    "import tempfile\n",
    "data_dir = tempfile.gettempdir()"
   ]
  },
  {
   "cell_type": "code",
   "execution_count": null,
   "metadata": {},
   "outputs": [],
   "source": [
    "# *** OR ***\n",
    "# Enable and run this cell if you have a different data path.\n",
    "# Replace the value with your real path.\n",
    "import glob\n",
    "\n",
    "data_dir = '/Users/rosteen/Data/NIRSPEC/mossim_prism/'\n",
    "\n",
    "# Create the lists of data products\n",
    "slit_id = []\n",
    "spectra_1d = []\n",
    "spectra_2d = []\n",
    "cutouts = []\n",
    "for file_path in glob.glob(str(data_dir+'/*')):\n",
    "    if ('x1d' in file_path):\n",
    "        spectra_1d.append(file_path)\n",
    "        slitid = file_path[74:79]\n",
    "        slit_id.append(slitid)\n",
    "    elif ('s2d' in file_path):\n",
    "        spectra_2d.append(file_path)\n",
    "    elif ('cutout' in file_path):\n",
    "        cutouts.append(file_path)     \n",
    "\n",
    "#Sort the slit ids and filenames\n",
    "slit_id_sorted = sorted (slit_id)    \n",
    "spectra_1d_sorted = sorted(spectra_1d)\n",
    "spectra_2d_sorted = sorted(spectra_2d)\n",
    "cutouts_sorted = sorted(cutouts)\n",
    "\n",
    "#mosviz.load_data(spectra_1d_sorted[0:10], spectra_2d_sorted[0:10], images=cutouts_sorted[0:10])\n",
    "mosviz.load_data(spectra_1d_sorted, spectra_2d_sorted, images=cutouts_sorted)"
   ]
  },
  {
   "cell_type": "raw",
   "metadata": {},
   "source": [
    "# Run this cell if you wish to download and unzip our example data.\n",
    "# This requires the \"zipfile\" package.\n",
    "\n",
    "from zipfile import ZipFile\n",
    "from astropy.utils.data import download_file\n",
    "import pathlib\n",
    "\n",
    "example_data = 'https://stsci.box.com/shared/static/ovyxi5eund92yoadvv01mynwt8t5n7jv.zip'\n",
    "fn = download_file(example_data, cache=True)\n",
    "with ZipFile(fn, 'r') as sample_data_zip:\n",
    "    sample_data_zip.extractall(data_dir)\n",
    "    \n",
    "data_dir = (pathlib.Path(data_dir) / 'mosviz_nirspec_data_0.3' / 'level3')"
   ]
  },
  {
   "cell_type": "code",
   "execution_count": null,
   "metadata": {},
   "outputs": [],
   "source": [
    "print(f'My data is in {data_dir}')"
   ]
  },
  {
   "cell_type": "markdown",
   "metadata": {},
   "source": [
    "Now that we have the data files extracted into `data_dir` we can load our files from that path."
   ]
  },
  {
   "cell_type": "code",
   "execution_count": null,
   "metadata": {},
   "outputs": [],
   "source": [
    "mosviz.load_data(directory=data_dir, instrument=\"nirspec\")"
   ]
  },
  {
   "cell_type": "markdown",
   "metadata": {},
   "source": [
    "WARNING: If the images did not load, you need to make sure that the number of images matches the number of spectra 1d and spectra 2d, as well as ensuring the location of the images is in a subdirectory of `data_dir` called `images`, `cutouts`, or `mosviz_cutouts`."
   ]
  },
  {
   "cell_type": "markdown",
   "metadata": {},
   "source": [
    "### Alternate ways to load data into Mosviz"
   ]
  },
  {
   "cell_type": "markdown",
   "metadata": {},
   "source": [
    "Alternatively, we can run the following 2 to 3 cells to extract data from box and generate it into lists that can be loaded separately."
   ]
  },
  {
   "cell_type": "raw",
   "metadata": {},
   "source": [
    "# *** OR ***\n",
    "# Enable and run this cell if you want to generate lists for Mosviz from the data in data_dir\n",
    "\n",
    "import glob\n",
    "import pathlib\n",
    "\n",
    "spectra_1d = []\n",
    "spectra_2d = []\n",
    "images = []\n",
    "\n",
    "level3_path = (pathlib.Path(data_dir) / 'mosviz_nirspec_data_0.3' / 'level3')\n",
    "for file_path in glob.iglob(str(level3_path / '*')):\n",
    "    if 'x1d' in file_path:\n",
    "        spectra_1d.append(file_path)\n",
    "    elif 's2d' in file_path:\n",
    "        spectra_2d.append(file_path)\n",
    "\n",
    "# If a single image is loaded with multiple spectra, it will be shared by all spectra in the list\n",
    "images = str(level3_path / 'mosviz_cutouts' / '227.fits')\n",
    "\n",
    "# *** OR ***\n",
    "# If images are available in a cutouts directory, uncomment the following lines.\n",
    "# Please make sure the number of cutouts matches the number of x1d and s2d files.\n",
    "\n",
    "# images = [file_path for file_path in glob.iglob(str(level3_path / 'cutouts' / '*'))]\n"
   ]
  },
  {
   "cell_type": "markdown",
   "metadata": {},
   "source": [
    "Once we have the lists populated, we can load them in the app.\n",
    "\n",
    "Once loaded below, click on one of the rows in the table to have your data displayed."
   ]
  },
  {
   "cell_type": "raw",
   "metadata": {},
   "source": [
    "# Enable and run this cell if you want to load data created from the previous cell\n",
    "\n",
    "mosviz.load_data(spectra_1d, spectra_2d, images=images, images_label=\"Cutout 227\")"
   ]
  },
  {
   "cell_type": "raw",
   "metadata": {},
   "source": [
    "# *** OR ***\n",
    "# Enable and run this cell if you want to load them separately.\n",
    "\n",
    "mosviz.load_metadata(images)    \n",
    "mosviz.load_1d_spectra(spectra_1d)\n",
    "mosviz.load_2d_spectra(spectra_2d)\n",
    "mosviz.load_images(images)"
   ]
  },
  {
   "cell_type": "markdown",
   "metadata": {},
   "source": [
    "If no images are provided, MOSViz can still display the spectra."
   ]
  },
  {
   "cell_type": "code",
   "execution_count": null,
   "metadata": {},
   "outputs": [],
   "source": [
    "mosviz_no_images = Mosviz()\n",
    "mosviz_no_images.app"
   ]
  },
  {
   "cell_type": "code",
   "execution_count": null,
   "metadata": {},
   "outputs": [],
   "source": [
    "mosviz_no_images.load_data(spectra_1d, spectra_2d)"
   ]
  },
  {
   "cell_type": "raw",
   "metadata": {},
   "source": [
    "# *** OR ***\n",
    "# Enable and run this cell if you want to load them separately.\n",
    "\n",
    "mosviz_no_images.load_1d_spectra(spectra_1d)\n",
    "mosviz_no_images.load_2d_spectra(spectra_2d)"
   ]
  },
  {
   "cell_type": "markdown",
   "metadata": {},
   "source": [
    "Images can be added later."
   ]
  },
  {
   "cell_type": "code",
   "execution_count": null,
   "metadata": {},
   "outputs": [],
   "source": [
    "mosviz_no_images.load_images(images)\n",
    "mosviz_no_images.load_metadata(images)"
   ]
  },
  {
   "cell_type": "code",
   "execution_count": null,
   "metadata": {},
   "outputs": [],
   "source": [
    "mosviz.app.template"
   ]
  },
  {
   "cell_type": "markdown",
   "metadata": {},
   "source": [
    "### Testing zoom-to-slit"
   ]
  },
  {
   "cell_type": "code",
   "execution_count": null,
   "metadata": {},
   "outputs": [],
   "source": [
    "s2dv = mosviz.app.get_viewer('spectrum-2d-viewer')"
   ]
  },
  {
   "cell_type": "code",
   "execution_count": null,
   "metadata": {},
   "outputs": [],
   "source": [
    "print(s2dv.axis_y.scale.max, s2dv.axis_y.scale.min)"
   ]
  },
  {
   "cell_type": "code",
   "execution_count": null,
   "metadata": {},
   "outputs": [],
   "source": [
    "s2dv.layers[0].layer.meta"
   ]
  },
  {
   "cell_type": "code",
   "execution_count": null,
   "metadata": {},
   "outputs": [],
   "source": [
    "from jdaviz.configs.mosviz.plugins.slit_overlay import jwst_header_to_skyregion\n",
    "\n",
    "sky_region = jwst_header_to_skyregion(s2dv.layers[0].layer.meta)\n",
    "sky_region"
   ]
  },
  {
   "cell_type": "code",
   "execution_count": null,
   "metadata": {},
   "outputs": [],
   "source": [
    "wcs = s2dv.layers[0].layer.coords\n",
    "wcs"
   ]
  },
  {
   "cell_type": "code",
   "execution_count": null,
   "metadata": {},
   "outputs": [],
   "source": [
    "upper_y = wcs.celestial.pixel_to_world(0,0)\n",
    "lower_y = wcs.celestial.pixel_to_world(25,0)\n",
    "print(upper_y)\n",
    "print(lower_y)"
   ]
  },
  {
   "cell_type": "code",
   "execution_count": null,
   "metadata": {},
   "outputs": [],
   "source": [
    "iv = mosviz.app.get_viewer(\"image-viewer\")"
   ]
  },
  {
   "cell_type": "code",
   "execution_count": null,
   "metadata": {},
   "outputs": [],
   "source": [
    "iv.data()[0].meta"
   ]
  },
  {
   "cell_type": "code",
   "execution_count": null,
   "metadata": {},
   "outputs": [],
   "source": [
    "iv.data()[0].coords"
   ]
  },
  {
   "cell_type": "code",
   "execution_count": null,
   "metadata": {},
   "outputs": [],
   "source": [
    "s2dv.layers[0].layer.data.shape"
   ]
  },
  {
   "cell_type": "code",
   "execution_count": null,
   "metadata": {},
   "outputs": [],
   "source": [
    "import astropy.units as u\n",
    "from astropy.coordinates import SkyCoord\n",
    "\n",
    "ra_center = 215.03883612*u.deg\n",
    "dec_center = 52.89044753*u.deg\n",
    "height=0.0007385744055694102*u.deg\n",
    "width="
   ]
  },
  {
   "cell_type": "code",
   "execution_count": null,
   "metadata": {},
   "outputs": [],
   "source": [
    "im_wcs = iv.layers[0].layer.coords\n",
    "\n",
    "upper = SkyCoord(ra_center+height, dec_center)\n",
    "print(im_wcs.world_to_pixel(upper))\n",
    "\n",
    "lower = SkyCoord(ra_center-height, dec_center)\n",
    "print(im_wcs.world_to_pixel(lower))"
   ]
  },
  {
   "cell_type": "code",
   "execution_count": null,
   "metadata": {},
   "outputs": [],
   "source": [
    "upper = SkyCoord(ra_center, dec_center+height)\n",
    "print(im_wcs.world_to_pixel(upper))\n",
    "\n",
    "lower = SkyCoord(ra_center, dec_center-height)\n",
    "print(im_wcs.world_to_pixel(lower))"
   ]
  },
  {
   "cell_type": "code",
   "execution_count": null,
   "metadata": {},
   "outputs": [],
   "source": [
    "upper_pixel = im_wcs.world_to_pixel(upper)\n",
    "lower_pixel = im_wcs.world_to_pixel(lower)"
   ]
  },
  {
   "cell_type": "code",
   "execution_count": null,
   "metadata": {},
   "outputs": [],
   "source": [
    "upper_pixel[1]-lower_pixel[1]"
   ]
  },
  {
   "cell_type": "code",
   "execution_count": null,
   "metadata": {},
   "outputs": [],
   "source": []
  }
 ],
 "metadata": {
  "kernelspec": {
   "display_name": "Python 3 (ipykernel)",
   "language": "python",
   "name": "python3"
  },
  "language_info": {
   "codemirror_mode": {
    "name": "ipython",
    "version": 3
   },
   "file_extension": ".py",
   "mimetype": "text/x-python",
   "name": "python",
   "nbconvert_exporter": "python",
   "pygments_lexer": "ipython3",
   "version": "3.8.11"
  }
 },
 "nbformat": 4,
 "nbformat_minor": 4
}
